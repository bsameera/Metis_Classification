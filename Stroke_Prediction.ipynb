{
 "cells": [
  {
   "cell_type": "code",
   "execution_count": 2,
   "id": "devoted-mother",
   "metadata": {},
   "outputs": [],
   "source": [
    "# https://www.kaggle.com/datasets/fedesoriano/stroke-prediction-dataset\n",
    "# https://www.cdc.gov/nchs/data/databriefs/db427-tables.pdf#4 - 5% \n",
    "# https://www.heartandstroke.ca/stroke/what-is-stroke\n",
    "# https://www.healthline.com/health/stroke-vs-heart-attack\n",
    "# print(sklearn.metrics.classification_report(y_test, y_pred))"
   ]
  },
  {
   "cell_type": "code",
   "execution_count": 3,
   "id": "modern-tunnel",
   "metadata": {},
   "outputs": [],
   "source": [
    "import pandas as pd\n",
    "import numpy as np\n",
    "\n",
    "# visualization imports\n",
    "import matplotlib.pyplot as plt\n",
    "import seaborn as sns\n",
    "plt.style.use('fivethirtyeight')\n",
    "\n",
    "%matplotlib inline\n",
    "\n",
    "# modeling imports\n",
    "\n",
    "from sklearn.model_selection import train_test_split\n",
    "from sklearn.linear_model import LogisticRegression\n",
    "from sklearn.neighbors import KNeighborsClassifier\n",
    "from sklearn.metrics import precision_score, recall_score, precision_recall_curve, accuracy_score, roc_auc_score\n",
    "from sklearn.metrics import f1_score, roc_curve, log_loss\n",
    "from sklearn.metrics import confusion_matrix\n",
    "from sklearn.preprocessing import StandardScaler\n",
    "import xgboost as xgb\n",
    "from sklearn.tree import DecisionTreeClassifier\n",
    "from sklearn.ensemble import RandomForestClassifier\n",
    "from sklearn.model_selection import GridSearchCV\n",
    "\n",
    "df = pd.read_csv(\"healthcare-dataset-stroke-data.csv\")"
   ]
  },
  {
   "cell_type": "code",
   "execution_count": 4,
   "id": "operating-arrangement",
   "metadata": {},
   "outputs": [
    {
     "name": "stdout",
     "output_type": "stream",
     "text": [
      "<class 'pandas.core.frame.DataFrame'>\n",
      "RangeIndex: 5110 entries, 0 to 5109\n",
      "Data columns (total 12 columns):\n",
      " #   Column             Non-Null Count  Dtype  \n",
      "---  ------             --------------  -----  \n",
      " 0   id                 5110 non-null   int64  \n",
      " 1   gender             5110 non-null   object \n",
      " 2   age                5110 non-null   float64\n",
      " 3   hypertension       5110 non-null   int64  \n",
      " 4   heart_disease      5110 non-null   int64  \n",
      " 5   ever_married       5110 non-null   object \n",
      " 6   work_type          5110 non-null   object \n",
      " 7   Residence_type     5110 non-null   object \n",
      " 8   avg_glucose_level  5110 non-null   float64\n",
      " 9   bmi                4909 non-null   float64\n",
      " 10  smoking_status     5110 non-null   object \n",
      " 11  stroke             5110 non-null   int64  \n",
      "dtypes: float64(3), int64(4), object(5)\n",
      "memory usage: 479.2+ KB\n"
     ]
    }
   ],
   "source": [
    "df.info()"
   ]
  },
  {
   "cell_type": "code",
   "execution_count": 5,
   "id": "seasonal-physiology",
   "metadata": {},
   "outputs": [
    {
     "data": {
      "text/html": [
       "<div>\n",
       "<style scoped>\n",
       "    .dataframe tbody tr th:only-of-type {\n",
       "        vertical-align: middle;\n",
       "    }\n",
       "\n",
       "    .dataframe tbody tr th {\n",
       "        vertical-align: top;\n",
       "    }\n",
       "\n",
       "    .dataframe thead th {\n",
       "        text-align: right;\n",
       "    }\n",
       "</style>\n",
       "<table border=\"1\" class=\"dataframe\">\n",
       "  <thead>\n",
       "    <tr style=\"text-align: right;\">\n",
       "      <th></th>\n",
       "      <th>id</th>\n",
       "      <th>gender</th>\n",
       "      <th>age</th>\n",
       "      <th>hypertension</th>\n",
       "      <th>heart_disease</th>\n",
       "      <th>ever_married</th>\n",
       "      <th>work_type</th>\n",
       "      <th>Residence_type</th>\n",
       "      <th>avg_glucose_level</th>\n",
       "      <th>bmi</th>\n",
       "      <th>smoking_status</th>\n",
       "      <th>stroke</th>\n",
       "    </tr>\n",
       "  </thead>\n",
       "  <tbody>\n",
       "    <tr>\n",
       "      <th>0</th>\n",
       "      <td>9046</td>\n",
       "      <td>Male</td>\n",
       "      <td>67.0</td>\n",
       "      <td>0</td>\n",
       "      <td>1</td>\n",
       "      <td>Yes</td>\n",
       "      <td>Private</td>\n",
       "      <td>Urban</td>\n",
       "      <td>228.69</td>\n",
       "      <td>36.6</td>\n",
       "      <td>formerly smoked</td>\n",
       "      <td>1</td>\n",
       "    </tr>\n",
       "    <tr>\n",
       "      <th>1</th>\n",
       "      <td>51676</td>\n",
       "      <td>Female</td>\n",
       "      <td>61.0</td>\n",
       "      <td>0</td>\n",
       "      <td>0</td>\n",
       "      <td>Yes</td>\n",
       "      <td>Self-employed</td>\n",
       "      <td>Rural</td>\n",
       "      <td>202.21</td>\n",
       "      <td>NaN</td>\n",
       "      <td>never smoked</td>\n",
       "      <td>1</td>\n",
       "    </tr>\n",
       "    <tr>\n",
       "      <th>2</th>\n",
       "      <td>31112</td>\n",
       "      <td>Male</td>\n",
       "      <td>80.0</td>\n",
       "      <td>0</td>\n",
       "      <td>1</td>\n",
       "      <td>Yes</td>\n",
       "      <td>Private</td>\n",
       "      <td>Rural</td>\n",
       "      <td>105.92</td>\n",
       "      <td>32.5</td>\n",
       "      <td>never smoked</td>\n",
       "      <td>1</td>\n",
       "    </tr>\n",
       "    <tr>\n",
       "      <th>3</th>\n",
       "      <td>60182</td>\n",
       "      <td>Female</td>\n",
       "      <td>49.0</td>\n",
       "      <td>0</td>\n",
       "      <td>0</td>\n",
       "      <td>Yes</td>\n",
       "      <td>Private</td>\n",
       "      <td>Urban</td>\n",
       "      <td>171.23</td>\n",
       "      <td>34.4</td>\n",
       "      <td>smokes</td>\n",
       "      <td>1</td>\n",
       "    </tr>\n",
       "    <tr>\n",
       "      <th>4</th>\n",
       "      <td>1665</td>\n",
       "      <td>Female</td>\n",
       "      <td>79.0</td>\n",
       "      <td>1</td>\n",
       "      <td>0</td>\n",
       "      <td>Yes</td>\n",
       "      <td>Self-employed</td>\n",
       "      <td>Rural</td>\n",
       "      <td>174.12</td>\n",
       "      <td>24.0</td>\n",
       "      <td>never smoked</td>\n",
       "      <td>1</td>\n",
       "    </tr>\n",
       "  </tbody>\n",
       "</table>\n",
       "</div>"
      ],
      "text/plain": [
       "      id  gender   age  hypertension  heart_disease ever_married  \\\n",
       "0   9046    Male  67.0             0              1          Yes   \n",
       "1  51676  Female  61.0             0              0          Yes   \n",
       "2  31112    Male  80.0             0              1          Yes   \n",
       "3  60182  Female  49.0             0              0          Yes   \n",
       "4   1665  Female  79.0             1              0          Yes   \n",
       "\n",
       "       work_type Residence_type  avg_glucose_level   bmi   smoking_status  \\\n",
       "0        Private          Urban             228.69  36.6  formerly smoked   \n",
       "1  Self-employed          Rural             202.21   NaN     never smoked   \n",
       "2        Private          Rural             105.92  32.5     never smoked   \n",
       "3        Private          Urban             171.23  34.4           smokes   \n",
       "4  Self-employed          Rural             174.12  24.0     never smoked   \n",
       "\n",
       "   stroke  \n",
       "0       1  \n",
       "1       1  \n",
       "2       1  \n",
       "3       1  \n",
       "4       1  "
      ]
     },
     "execution_count": 5,
     "metadata": {},
     "output_type": "execute_result"
    }
   ],
   "source": [
    "df.head()"
   ]
  },
  {
   "cell_type": "code",
   "execution_count": 6,
   "id": "collective-integration",
   "metadata": {},
   "outputs": [
    {
     "data": {
      "text/plain": [
       "0    4861\n",
       "1     249\n",
       "Name: stroke, dtype: int64"
      ]
     },
     "execution_count": 6,
     "metadata": {},
     "output_type": "execute_result"
    }
   ],
   "source": [
    "df.stroke.value_counts()"
   ]
  },
  {
   "cell_type": "code",
   "execution_count": 7,
   "id": "seven-biotechnology",
   "metadata": {},
   "outputs": [
    {
     "data": {
      "text/plain": [
       "id                     0\n",
       "gender                 0\n",
       "age                    0\n",
       "hypertension           0\n",
       "heart_disease          0\n",
       "ever_married           0\n",
       "work_type              0\n",
       "Residence_type         0\n",
       "avg_glucose_level      0\n",
       "bmi                  201\n",
       "smoking_status         0\n",
       "stroke                 0\n",
       "dtype: int64"
      ]
     },
     "execution_count": 7,
     "metadata": {},
     "output_type": "execute_result"
    }
   ],
   "source": [
    "df.isna().sum()"
   ]
  },
  {
   "cell_type": "code",
   "execution_count": 8,
   "id": "dangerous-honduras",
   "metadata": {},
   "outputs": [],
   "source": [
    "df.dropna(axis=0, inplace=True)"
   ]
  },
  {
   "cell_type": "code",
   "execution_count": 9,
   "id": "virgin-liability",
   "metadata": {},
   "outputs": [
    {
     "data": {
      "text/plain": [
       "0    4700\n",
       "1     209\n",
       "Name: stroke, dtype: int64"
      ]
     },
     "execution_count": 9,
     "metadata": {},
     "output_type": "execute_result"
    }
   ],
   "source": [
    "df.stroke.value_counts()"
   ]
  },
  {
   "cell_type": "code",
   "execution_count": 10,
   "id": "european-pixel",
   "metadata": {},
   "outputs": [
    {
     "data": {
      "text/plain": [
       "Female    2897\n",
       "Male      2011\n",
       "Name: gender, dtype: int64"
      ]
     },
     "execution_count": 10,
     "metadata": {},
     "output_type": "execute_result"
    }
   ],
   "source": [
    "# drop the row with \"other\" in gender as it is only one row\n",
    "df = df[df.gender != 'Other']\n",
    "df.gender.value_counts()"
   ]
  },
  {
   "cell_type": "code",
   "execution_count": 11,
   "id": "loose-location",
   "metadata": {},
   "outputs": [
    {
     "name": "stdout",
     "output_type": "stream",
     "text": [
      "<class 'pandas.core.frame.DataFrame'>\n",
      "Int64Index: 4908 entries, 0 to 5109\n",
      "Data columns (total 12 columns):\n",
      " #   Column             Non-Null Count  Dtype  \n",
      "---  ------             --------------  -----  \n",
      " 0   id                 4908 non-null   int64  \n",
      " 1   gender             4908 non-null   object \n",
      " 2   age                4908 non-null   float64\n",
      " 3   hypertension       4908 non-null   int64  \n",
      " 4   heart_disease      4908 non-null   int64  \n",
      " 5   ever_married       4908 non-null   object \n",
      " 6   work_type          4908 non-null   object \n",
      " 7   Residence_type     4908 non-null   object \n",
      " 8   avg_glucose_level  4908 non-null   float64\n",
      " 9   bmi                4908 non-null   float64\n",
      " 10  smoking_status     4908 non-null   object \n",
      " 11  stroke             4908 non-null   int64  \n",
      "dtypes: float64(3), int64(4), object(5)\n",
      "memory usage: 498.5+ KB\n"
     ]
    }
   ],
   "source": [
    "df.info()"
   ]
  },
  {
   "cell_type": "code",
   "execution_count": 12,
   "id": "reliable-decline",
   "metadata": {},
   "outputs": [
    {
     "data": {
      "text/html": [
       "<div>\n",
       "<style scoped>\n",
       "    .dataframe tbody tr th:only-of-type {\n",
       "        vertical-align: middle;\n",
       "    }\n",
       "\n",
       "    .dataframe tbody tr th {\n",
       "        vertical-align: top;\n",
       "    }\n",
       "\n",
       "    .dataframe thead th {\n",
       "        text-align: right;\n",
       "    }\n",
       "</style>\n",
       "<table border=\"1\" class=\"dataframe\">\n",
       "  <thead>\n",
       "    <tr style=\"text-align: right;\">\n",
       "      <th></th>\n",
       "      <th>id</th>\n",
       "      <th>gender</th>\n",
       "      <th>age</th>\n",
       "      <th>hypertension</th>\n",
       "      <th>heart_disease</th>\n",
       "      <th>ever_married</th>\n",
       "      <th>work_type</th>\n",
       "      <th>Residence_type</th>\n",
       "      <th>avg_glucose_level</th>\n",
       "      <th>bmi</th>\n",
       "      <th>smoking_status</th>\n",
       "      <th>stroke</th>\n",
       "    </tr>\n",
       "  </thead>\n",
       "  <tbody>\n",
       "    <tr>\n",
       "      <th>5104</th>\n",
       "      <td>14180</td>\n",
       "      <td>Female</td>\n",
       "      <td>13.0</td>\n",
       "      <td>0</td>\n",
       "      <td>0</td>\n",
       "      <td>No</td>\n",
       "      <td>children</td>\n",
       "      <td>Rural</td>\n",
       "      <td>103.08</td>\n",
       "      <td>18.6</td>\n",
       "      <td>Unknown</td>\n",
       "      <td>0</td>\n",
       "    </tr>\n",
       "    <tr>\n",
       "      <th>5106</th>\n",
       "      <td>44873</td>\n",
       "      <td>Female</td>\n",
       "      <td>81.0</td>\n",
       "      <td>0</td>\n",
       "      <td>0</td>\n",
       "      <td>Yes</td>\n",
       "      <td>Self-employed</td>\n",
       "      <td>Urban</td>\n",
       "      <td>125.20</td>\n",
       "      <td>40.0</td>\n",
       "      <td>never smoked</td>\n",
       "      <td>0</td>\n",
       "    </tr>\n",
       "    <tr>\n",
       "      <th>5107</th>\n",
       "      <td>19723</td>\n",
       "      <td>Female</td>\n",
       "      <td>35.0</td>\n",
       "      <td>0</td>\n",
       "      <td>0</td>\n",
       "      <td>Yes</td>\n",
       "      <td>Self-employed</td>\n",
       "      <td>Rural</td>\n",
       "      <td>82.99</td>\n",
       "      <td>30.6</td>\n",
       "      <td>never smoked</td>\n",
       "      <td>0</td>\n",
       "    </tr>\n",
       "    <tr>\n",
       "      <th>5108</th>\n",
       "      <td>37544</td>\n",
       "      <td>Male</td>\n",
       "      <td>51.0</td>\n",
       "      <td>0</td>\n",
       "      <td>0</td>\n",
       "      <td>Yes</td>\n",
       "      <td>Private</td>\n",
       "      <td>Rural</td>\n",
       "      <td>166.29</td>\n",
       "      <td>25.6</td>\n",
       "      <td>formerly smoked</td>\n",
       "      <td>0</td>\n",
       "    </tr>\n",
       "    <tr>\n",
       "      <th>5109</th>\n",
       "      <td>44679</td>\n",
       "      <td>Female</td>\n",
       "      <td>44.0</td>\n",
       "      <td>0</td>\n",
       "      <td>0</td>\n",
       "      <td>Yes</td>\n",
       "      <td>Govt_job</td>\n",
       "      <td>Urban</td>\n",
       "      <td>85.28</td>\n",
       "      <td>26.2</td>\n",
       "      <td>Unknown</td>\n",
       "      <td>0</td>\n",
       "    </tr>\n",
       "  </tbody>\n",
       "</table>\n",
       "</div>"
      ],
      "text/plain": [
       "         id  gender   age  hypertension  heart_disease ever_married  \\\n",
       "5104  14180  Female  13.0             0              0           No   \n",
       "5106  44873  Female  81.0             0              0          Yes   \n",
       "5107  19723  Female  35.0             0              0          Yes   \n",
       "5108  37544    Male  51.0             0              0          Yes   \n",
       "5109  44679  Female  44.0             0              0          Yes   \n",
       "\n",
       "          work_type Residence_type  avg_glucose_level   bmi   smoking_status  \\\n",
       "5104       children          Rural             103.08  18.6          Unknown   \n",
       "5106  Self-employed          Urban             125.20  40.0     never smoked   \n",
       "5107  Self-employed          Rural              82.99  30.6     never smoked   \n",
       "5108        Private          Rural             166.29  25.6  formerly smoked   \n",
       "5109       Govt_job          Urban              85.28  26.2          Unknown   \n",
       "\n",
       "      stroke  \n",
       "5104       0  \n",
       "5106       0  \n",
       "5107       0  \n",
       "5108       0  \n",
       "5109       0  "
      ]
     },
     "execution_count": 12,
     "metadata": {},
     "output_type": "execute_result"
    }
   ],
   "source": [
    "df.tail()"
   ]
  },
  {
   "cell_type": "code",
   "execution_count": 13,
   "id": "dramatic-sunglasses",
   "metadata": {},
   "outputs": [],
   "source": [
    "df.reset_index(drop=True, inplace=True)"
   ]
  },
  {
   "cell_type": "code",
   "execution_count": 14,
   "id": "typical-video",
   "metadata": {},
   "outputs": [
    {
     "data": {
      "text/html": [
       "<div>\n",
       "<style scoped>\n",
       "    .dataframe tbody tr th:only-of-type {\n",
       "        vertical-align: middle;\n",
       "    }\n",
       "\n",
       "    .dataframe tbody tr th {\n",
       "        vertical-align: top;\n",
       "    }\n",
       "\n",
       "    .dataframe thead th {\n",
       "        text-align: right;\n",
       "    }\n",
       "</style>\n",
       "<table border=\"1\" class=\"dataframe\">\n",
       "  <thead>\n",
       "    <tr style=\"text-align: right;\">\n",
       "      <th></th>\n",
       "      <th>id</th>\n",
       "      <th>gender</th>\n",
       "      <th>age</th>\n",
       "      <th>hypertension</th>\n",
       "      <th>heart_disease</th>\n",
       "      <th>ever_married</th>\n",
       "      <th>work_type</th>\n",
       "      <th>Residence_type</th>\n",
       "      <th>avg_glucose_level</th>\n",
       "      <th>bmi</th>\n",
       "      <th>smoking_status</th>\n",
       "      <th>stroke</th>\n",
       "    </tr>\n",
       "  </thead>\n",
       "  <tbody>\n",
       "    <tr>\n",
       "      <th>4903</th>\n",
       "      <td>14180</td>\n",
       "      <td>Female</td>\n",
       "      <td>13.0</td>\n",
       "      <td>0</td>\n",
       "      <td>0</td>\n",
       "      <td>No</td>\n",
       "      <td>children</td>\n",
       "      <td>Rural</td>\n",
       "      <td>103.08</td>\n",
       "      <td>18.6</td>\n",
       "      <td>Unknown</td>\n",
       "      <td>0</td>\n",
       "    </tr>\n",
       "    <tr>\n",
       "      <th>4904</th>\n",
       "      <td>44873</td>\n",
       "      <td>Female</td>\n",
       "      <td>81.0</td>\n",
       "      <td>0</td>\n",
       "      <td>0</td>\n",
       "      <td>Yes</td>\n",
       "      <td>Self-employed</td>\n",
       "      <td>Urban</td>\n",
       "      <td>125.20</td>\n",
       "      <td>40.0</td>\n",
       "      <td>never smoked</td>\n",
       "      <td>0</td>\n",
       "    </tr>\n",
       "    <tr>\n",
       "      <th>4905</th>\n",
       "      <td>19723</td>\n",
       "      <td>Female</td>\n",
       "      <td>35.0</td>\n",
       "      <td>0</td>\n",
       "      <td>0</td>\n",
       "      <td>Yes</td>\n",
       "      <td>Self-employed</td>\n",
       "      <td>Rural</td>\n",
       "      <td>82.99</td>\n",
       "      <td>30.6</td>\n",
       "      <td>never smoked</td>\n",
       "      <td>0</td>\n",
       "    </tr>\n",
       "    <tr>\n",
       "      <th>4906</th>\n",
       "      <td>37544</td>\n",
       "      <td>Male</td>\n",
       "      <td>51.0</td>\n",
       "      <td>0</td>\n",
       "      <td>0</td>\n",
       "      <td>Yes</td>\n",
       "      <td>Private</td>\n",
       "      <td>Rural</td>\n",
       "      <td>166.29</td>\n",
       "      <td>25.6</td>\n",
       "      <td>formerly smoked</td>\n",
       "      <td>0</td>\n",
       "    </tr>\n",
       "    <tr>\n",
       "      <th>4907</th>\n",
       "      <td>44679</td>\n",
       "      <td>Female</td>\n",
       "      <td>44.0</td>\n",
       "      <td>0</td>\n",
       "      <td>0</td>\n",
       "      <td>Yes</td>\n",
       "      <td>Govt_job</td>\n",
       "      <td>Urban</td>\n",
       "      <td>85.28</td>\n",
       "      <td>26.2</td>\n",
       "      <td>Unknown</td>\n",
       "      <td>0</td>\n",
       "    </tr>\n",
       "  </tbody>\n",
       "</table>\n",
       "</div>"
      ],
      "text/plain": [
       "         id  gender   age  hypertension  heart_disease ever_married  \\\n",
       "4903  14180  Female  13.0             0              0           No   \n",
       "4904  44873  Female  81.0             0              0          Yes   \n",
       "4905  19723  Female  35.0             0              0          Yes   \n",
       "4906  37544    Male  51.0             0              0          Yes   \n",
       "4907  44679  Female  44.0             0              0          Yes   \n",
       "\n",
       "          work_type Residence_type  avg_glucose_level   bmi   smoking_status  \\\n",
       "4903       children          Rural             103.08  18.6          Unknown   \n",
       "4904  Self-employed          Urban             125.20  40.0     never smoked   \n",
       "4905  Self-employed          Rural              82.99  30.6     never smoked   \n",
       "4906        Private          Rural             166.29  25.6  formerly smoked   \n",
       "4907       Govt_job          Urban              85.28  26.2          Unknown   \n",
       "\n",
       "      stroke  \n",
       "4903       0  \n",
       "4904       0  \n",
       "4905       0  \n",
       "4906       0  \n",
       "4907       0  "
      ]
     },
     "execution_count": 14,
     "metadata": {},
     "output_type": "execute_result"
    }
   ],
   "source": [
    "df.tail()"
   ]
  },
  {
   "cell_type": "code",
   "execution_count": 15,
   "id": "convertible-square",
   "metadata": {},
   "outputs": [
    {
     "name": "stdout",
     "output_type": "stream",
     "text": [
      "<class 'pandas.core.frame.DataFrame'>\n",
      "RangeIndex: 4908 entries, 0 to 4907\n",
      "Data columns (total 17 columns):\n",
      " #   Column                          Non-Null Count  Dtype  \n",
      "---  ------                          --------------  -----  \n",
      " 0   id                              4908 non-null   int64  \n",
      " 1   age                             4908 non-null   float64\n",
      " 2   hypertension                    4908 non-null   int64  \n",
      " 3   heart_disease                   4908 non-null   int64  \n",
      " 4   avg_glucose_level               4908 non-null   float64\n",
      " 5   bmi                             4908 non-null   float64\n",
      " 6   stroke                          4908 non-null   int64  \n",
      " 7   gender_Male                     4908 non-null   uint8  \n",
      " 8   ever_married_Yes                4908 non-null   uint8  \n",
      " 9   work_type_Never_worked          4908 non-null   uint8  \n",
      " 10  work_type_Private               4908 non-null   uint8  \n",
      " 11  work_type_Self-employed         4908 non-null   uint8  \n",
      " 12  work_type_children              4908 non-null   uint8  \n",
      " 13  Residence_type_Urban            4908 non-null   uint8  \n",
      " 14  smoking_status_formerly smoked  4908 non-null   uint8  \n",
      " 15  smoking_status_never smoked     4908 non-null   uint8  \n",
      " 16  smoking_status_smokes           4908 non-null   uint8  \n",
      "dtypes: float64(3), int64(4), uint8(10)\n",
      "memory usage: 316.5 KB\n"
     ]
    }
   ],
   "source": [
    "df = pd.get_dummies(df, columns=['gender', 'ever_married', 'work_type', 'Residence_type', 'smoking_status'], drop_first=True)\n",
    "df.info()\n"
   ]
  },
  {
   "cell_type": "code",
   "execution_count": 16,
   "id": "color-machine",
   "metadata": {},
   "outputs": [],
   "source": [
    "X = df.drop(columns=['stroke'], axis=1)\n",
    "y = df.stroke\n",
    "\n",
    "# X, X_test, y, y_test = train_test_split(X, y, test_size=.2, random_state=42, stratify=y)\n",
    "# X_train, X_val, y_train, y_val = train_test_split(X, y, test_size=.15, random_state=42, stratify=y)\n",
    "\n",
    "# X_train, X_test, y_train, y_test = train_test_split(X, y, test_size=0.2, random_state=1, stratify=y)\n",
    "# X_train, X_val, y_train, y_val = train_test_split(X_train, y_train, test_size=0.25, random_state=2, stratify=y_train)\n",
    "\n",
    "# stratify=y\n",
    "X_train, X_test, y_train, y_test = train_test_split(X, y, test_size=.2, random_state=42, stratify=y)\n"
   ]
  },
  {
   "cell_type": "code",
   "execution_count": 17,
   "id": "rough-final",
   "metadata": {},
   "outputs": [
    {
     "data": {
      "text/plain": [
       "0    3759\n",
       "1     167\n",
       "Name: stroke, dtype: int64"
      ]
     },
     "execution_count": 17,
     "metadata": {},
     "output_type": "execute_result"
    }
   ],
   "source": [
    "y_train.value_counts()"
   ]
  },
  {
   "cell_type": "code",
   "execution_count": 18,
   "id": "limiting-penalty",
   "metadata": {},
   "outputs": [],
   "source": [
    "import imblearn.over_sampling\n",
    "\n",
    "n_pos = np.sum(y_train == 1)\n",
    "n_neg = np.sum(y_train == 0)\n",
    "\n",
    "# create 4x as many positive samples\n",
    "ratio = {1 : n_pos * 4, 0 : n_neg}\n",
    "\n",
    "# randomly oversample positives\n",
    "ROS =imblearn.over_sampling.RandomOverSampler(sampling_strategy = ratio,random_state=42)\n",
    "X_tr_rs, y_tr_rs = ROS.fit_resample(X_train, y_train)\n"
   ]
  },
  {
   "cell_type": "markdown",
   "id": "excited-italy",
   "metadata": {},
   "source": [
    "## Logistic Regression"
   ]
  },
  {
   "cell_type": "code",
   "execution_count": 19,
   "id": "engaging-wilson",
   "metadata": {},
   "outputs": [
    {
     "data": {
      "text/plain": [
       "LogisticRegression(C=1000, max_iter=1000)"
      ]
     },
     "execution_count": 19,
     "metadata": {},
     "output_type": "execute_result"
    }
   ],
   "source": [
    "lm1 = LogisticRegression(C=1000, max_iter=1000) # setting C very high essentially removes regularization\n",
    "lm1.fit(X_tr_rs, y_tr_rs)"
   ]
  },
  {
   "cell_type": "code",
   "execution_count": 20,
   "id": "needed-engineer",
   "metadata": {},
   "outputs": [
    {
     "name": "stdout",
     "output_type": "stream",
     "text": [
      "The score for logistic regression is \n",
      "Train set:  93.22%\n",
      "Test set:  92.97%\n",
      "\n",
      "\n",
      "Precision: 0.13513513513513514\n",
      "Recall: 0.11904761904761904\n",
      "F1: 0.12658227848101267\n",
      "Log_loss: 2.4268850899863583\n",
      "ROC AUC: 0.7141337386018237\n"
     ]
    }
   ],
   "source": [
    "train_score = lm1.score(X_train, y_train)\n",
    "# val_score = lm1.score(X_val, y_val)\n",
    "test_score = lm1.score(X_test, y_test)\n",
    "\n",
    "print(\"The score for logistic regression is \")\n",
    "print(\"Train set: {:6.2f}%\".format(100*train_score))\n",
    "# print(\"Validation set: {:6.2f}%\".format(100*val_score))\n",
    "print(\"Test set: {:6.2f}%\".format(100*test_score))\n",
    "\n",
    "y_pred = lm1.predict(X_test)\n",
    "\n",
    "print(\"\\n\")\n",
    "print(f\"Precision: {precision_score(y_test, y_pred)}\")\n",
    "print(f\"Recall: {recall_score(y_test, y_pred)}\")\n",
    "print(f\"F1: {f1_score(y_test, y_pred)}\")\n",
    "print(f\"Log_loss: {log_loss(y_test, y_pred)}\")\n",
    "print(f\"ROC AUC: {roc_auc_score(y_test, lm1.predict_proba(X_test)[:,1])}\")"
   ]
  },
  {
   "cell_type": "code",
   "execution_count": 21,
   "id": "laden-vertex",
   "metadata": {},
   "outputs": [
    {
     "name": "stdout",
     "output_type": "stream",
     "text": [
      "\n",
      "\n",
      "Precision: 0.125\n",
      "Recall: 0.09523809523809523\n",
      "F1: 0.1081081081081081\n",
      "Log_loss: 2.321366222802598\n",
      "ROC AUC: 0.7121580547112462\n"
     ]
    }
   ],
   "source": [
    "lm1 = LogisticRegression(C=100, solver='liblinear') # setting C very high essentially removes regularization\n",
    "lm1.fit(X_tr_rs, y_tr_rs)\n",
    "\n",
    "y_pred = lm1.predict(X_test)\n",
    "\n",
    "print(\"\\n\")\n",
    "print(f\"Precision: {precision_score(y_test, y_pred)}\")\n",
    "print(f\"Recall: {recall_score(y_test, y_pred)}\")\n",
    "print(f\"F1: {f1_score(y_test, y_pred)}\")\n",
    "print(f\"Log_loss: {log_loss(y_test, y_pred)}\")\n",
    "print(f\"ROC AUC: {roc_auc_score(y_test, lm1.predict_proba(X_test)[:,1])}\")"
   ]
  },
  {
   "cell_type": "code",
   "execution_count": 22,
   "id": "twenty-thesaurus",
   "metadata": {},
   "outputs": [
    {
     "name": "stdout",
     "output_type": "stream",
     "text": [
      "Normal Logistic Regression - Test F1: 0.108, Test AUC: 0.712, Log loss: 2.321\n",
      "LogisticRegression - \n",
      "Precision: 0.125\n",
      "Recall: 0.09523809523809523\n",
      "Balanced class weights Logistic Regression Test F1: 0.197, Test AUC: 0.802, Log loss: 8.617\n",
      "4:1 class weights Logistic Regression Test F1: 0.157, Test AUC: 0.782, Log loss: 7.562\n",
      "6:1 class weights Logistic Regression Test F1: 0.193, Test AUC: 0.802, Log loss: 8.828\n",
      "8:1 class weights Logistic Regression Test F1: 0.178, Test AUC: 0.802, Log loss: 11.079\n"
     ]
    }
   ],
   "source": [
    "lr = LogisticRegression(C=100, solver='liblinear') \n",
    "lr_balanced = LogisticRegression(class_weight='balanced', solver='liblinear')\n",
    "lr_4x = LogisticRegression(C=100, class_weight={1 : 4, 0 : 1}, solver='liblinear')\n",
    "lr_6x = LogisticRegression(C=100, class_weight={1 : 6, 0 : 1}, solver='liblinear')\n",
    "lr_8x = LogisticRegression(C=100, class_weight={1 : 8, 0 : 1}, solver='liblinear')\n",
    "\n",
    "# fit on oversampled data\n",
    "\n",
    "lr.fit(X_tr_rs, y_tr_rs)\n",
    "print('Normal Logistic Regression - Test F1: %.3f, Test AUC: %.3f, Log loss: %.3f' % \\\n",
    "      (f1_score(y_test, lr.predict(X_test)), roc_auc_score(y_test, lr.predict_proba(X_test)[:,1]), log_loss(y_test, lr.predict(X_test))))\n",
    "\n",
    "print('LogisticRegression - ')\n",
    "print(f\"Precision: {precision_score(y_test, lr.predict(X_test))}\")\n",
    "print(f\"Recall: {recall_score(y_test, lr.predict(X_test))}\")\n",
    "\n",
    "lr_balanced.fit(X_tr_rs, y_tr_rs)\n",
    "print('Balanced class weights Logistic Regression Test F1: %.3f, Test AUC: %.3f, Log loss: %.3f' % \\\n",
    "      (f1_score(y_test, lr_balanced.predict(X_test)), roc_auc_score(y_test, lr_balanced.predict_proba(X_test)[:,1]), log_loss(y_test, lr_balanced.predict(X_test))))\n",
    "\n",
    "lr_4x.fit(X_tr_rs, y_tr_rs)\n",
    "print('4:1 class weights Logistic Regression Test F1: %.3f, Test AUC: %.3f, Log loss: %.3f' % \\\n",
    "      (f1_score(y_test, lr_4x.predict(X_test)), roc_auc_score(y_test, lr_4x.predict_proba(X_test)[:,1]), log_loss(y_test, lr_4x.predict(X_test))))\n",
    "      \n",
    "lr_6x.fit(X_tr_rs, y_tr_rs)\n",
    "print('6:1 class weights Logistic Regression Test F1: %.3f, Test AUC: %.3f, Log loss: %.3f' % \\\n",
    "      (f1_score(y_test, lr_6x.predict(X_test)), roc_auc_score(y_test, lr_6x.predict_proba(X_test)[:,1]), log_loss(y_test, lr_6x.predict(X_test))))\n",
    "        \n",
    "lr_8x.fit(X_tr_rs, y_tr_rs)\n",
    "print('8:1 class weights Logistic Regression Test F1: %.3f, Test AUC: %.3f, Log loss: %.3f' % \\\n",
    "      (f1_score(y_test, lr_8x.predict(X_test)), roc_auc_score(y_test, lr_8x.predict_proba(X_test)[:,1]), log_loss(y_test, lr_8x.predict(X_test))))\n",
    "          \n",
    "      "
   ]
  },
  {
   "cell_type": "code",
   "execution_count": 23,
   "id": "infectious-hierarchy",
   "metadata": {},
   "outputs": [
    {
     "name": "stdout",
     "output_type": "stream",
     "text": [
      "Normal Logistic Regression - Test F1: 0.000, Test AUC: 0.660, Log loss: 1.548\n",
      "Balanced class weights Logistic Regression Test F1: 0.193, Test AUC: 0.803, Log loss: 8.547\n",
      "4:1 class weights Logistic Regression Test F1: 0.165, Test AUC: 0.719, Log loss: 2.497\n",
      "Precision: 0.16279069767441862\n",
      "Recall: 0.16666666666666666\n",
      "6:1 class weights Logistic Regression Test F1: 0.215, Test AUC: 0.805, Log loss: 3.588\n",
      "Precision: 0.1590909090909091\n",
      "Recall: 0.3333333333333333\n",
      "8:1 class weights Logistic Regression Test F1: 0.200, Test AUC: 0.776, Log loss: 4.502\n",
      "Precision: 0.13559322033898305\n",
      "Recall: 0.38095238095238093\n"
     ]
    }
   ],
   "source": [
    "# fit on train data, not oversampled data\n",
    "\n",
    "lr.fit(X_train, y_train)\n",
    "print('Normal Logistic Regression - Test F1: %.3f, Test AUC: %.3f, Log loss: %.3f' % \\\n",
    "      (f1_score(y_test, lr.predict(X_test)), roc_auc_score(y_test, lr.predict_proba(X_test)[:,1]), log_loss(y_test, lr.predict(X_test))))\n",
    "\n",
    "lr_balanced.fit(X_train, y_train)\n",
    "print('Balanced class weights Logistic Regression Test F1: %.3f, Test AUC: %.3f, Log loss: %.3f' % \\\n",
    "      (f1_score(y_test, lr_balanced.predict(X_test)), roc_auc_score(y_test, lr_balanced.predict_proba(X_test)[:,1]), log_loss(y_test, lr_balanced.predict(X_test))))\n",
    "\n",
    "lr_4x.fit(X_train, y_train)\n",
    "print('4:1 class weights Logistic Regression Test F1: %.3f, Test AUC: %.3f, Log loss: %.3f' % \\\n",
    "      (f1_score(y_test, lr_4x.predict(X_test)), roc_auc_score(y_test, lr_4x.predict_proba(X_test)[:,1]), log_loss(y_test, lr_4x.predict(X_test))))\n",
    "print(f\"Precision: {precision_score(y_test, lr_4x.predict(X_test))}\")\n",
    "print(f\"Recall: {recall_score(y_test, lr_4x.predict(X_test))}\")\n",
    "\n",
    "lr_6x.fit(X_train, y_train)\n",
    "print('6:1 class weights Logistic Regression Test F1: %.3f, Test AUC: %.3f, Log loss: %.3f' % \\\n",
    "      (f1_score(y_test, lr_6x.predict(X_test)), roc_auc_score(y_test, lr_6x.predict_proba(X_test)[:,1]), log_loss(y_test, lr_6x.predict(X_test))))\n",
    "print(f\"Precision: {precision_score(y_test, lr_6x.predict(X_test))}\")\n",
    "print(f\"Recall: {recall_score(y_test, lr_6x.predict(X_test))}\")    \n",
    "\n",
    "lr_8x.fit(X_train, y_train)\n",
    "print('8:1 class weights Logistic Regression Test F1: %.3f, Test AUC: %.3f, Log loss: %.3f' % \\\n",
    "      (f1_score(y_test, lr_8x.predict(X_test)), roc_auc_score(y_test, lr_8x.predict_proba(X_test)[:,1]), log_loss(y_test, lr_8x.predict(X_test))))\n",
    "print(f\"Precision: {precision_score(y_test, lr_8x.predict(X_test))}\")\n",
    "print(f\"Recall: {recall_score(y_test, lr_8x.predict(X_test))}\")    \n",
    "\n",
    "      "
   ]
  },
  {
   "cell_type": "markdown",
   "id": "seventh-seating",
   "metadata": {},
   "source": [
    "## KNN Classifier"
   ]
  },
  {
   "cell_type": "code",
   "execution_count": 24,
   "id": "stretch-activation",
   "metadata": {},
   "outputs": [
    {
     "name": "stdout",
     "output_type": "stream",
     "text": [
      "Accuracy Score : 0.890020366598778\n",
      "F1: 0.06896551724137931\n",
      "Log_loss: 3.798618963819214\n",
      "ROC AUC: 0.48957700101317125\n"
     ]
    }
   ],
   "source": [
    "knn = KNeighborsClassifier(n_neighbors=5)\n",
    "knn.fit(X_tr_rs, y_tr_rs)\n",
    "\n",
    "y_pred = knn.predict(X_test)\n",
    "\n",
    "print(f\"Accuracy Score : {accuracy_score(y_test, y_pred)}\")\n",
    "print(f\"F1: {f1_score(y_test, y_pred)}\")\n",
    "print(f\"Log_loss: {log_loss(y_test, y_pred)}\")\n",
    "print(f\"ROC AUC: {roc_auc_score(y_test, knn.predict_proba(X_test)[:,1])}\")"
   ]
  },
  {
   "cell_type": "code",
   "execution_count": 25,
   "id": "assigned-short",
   "metadata": {},
   "outputs": [
    {
     "name": "stdout",
     "output_type": "stream",
     "text": [
      "Accuracy Score : 0.9093686354378818\n",
      "F1: 0.04301075268817204\n",
      "Log_loss: 3.1303363334227403\n",
      "ROC AUC: 0.5376266464032421\n"
     ]
    }
   ],
   "source": [
    "knn = KNeighborsClassifier(n_neighbors=10)\n",
    "knn.fit(X_tr_rs, y_tr_rs)\n",
    "\n",
    "y_pred = knn.predict(X_test)\n",
    "\n",
    "print(f\"Accuracy Score : {accuracy_score(y_test, y_pred)}\")\n",
    "print(f\"F1: {f1_score(y_test, y_pred)}\")\n",
    "print(f\"Log_loss: {log_loss(y_test, y_pred)}\")\n",
    "print(f\"ROC AUC: {roc_auc_score(y_test, knn.predict_proba(X_test)[:,1])}\")"
   ]
  },
  {
   "cell_type": "code",
   "execution_count": 26,
   "id": "corresponding-fighter",
   "metadata": {},
   "outputs": [
    {
     "name": "stdout",
     "output_type": "stream",
     "text": [
      "f1-macro 0.4977213036556841\n",
      "f1-micro 0.9093686354378818\n",
      "f1-weighted 0.9135360437461381\n",
      "f1 [0.95243185 0.04301075]\n",
      "Log_loss: 3.1303363334227403\n",
      "ROC AUC: 0.5376266464032421\n"
     ]
    }
   ],
   "source": [
    "print('f1-macro', f1_score(y_test, y_pred, average='macro'))\n",
    "print('f1-micro', f1_score(y_test, y_pred, average='micro'))\n",
    "print('f1-weighted', f1_score(y_test, y_pred, average='weighted'))\n",
    "print('f1', f1_score(y_test, y_pred, average=None))\n",
    "print(f\"Log_loss: {log_loss(y_test, y_pred)}\")\n",
    "print(f\"ROC AUC: {roc_auc_score(y_test, knn.predict_proba(X_test)[:,1])}\")"
   ]
  },
  {
   "cell_type": "markdown",
   "id": "geological-mitchell",
   "metadata": {},
   "source": [
    "## DecisionTree Classifier"
   ]
  },
  {
   "cell_type": "code",
   "execution_count": 27,
   "id": "accepted-father",
   "metadata": {},
   "outputs": [
    {
     "data": {
      "text/plain": [
       "DecisionTreeClassifier(criterion='entropy', max_depth=4)"
      ]
     },
     "execution_count": 27,
     "metadata": {},
     "output_type": "execute_result"
    }
   ],
   "source": [
    "from sklearn.tree import DecisionTreeClassifier\n",
    "\n",
    "dt = DecisionTreeClassifier(max_depth=4,criterion=\"entropy\")\n",
    "dt.fit(X_tr_rs,y_tr_rs)"
   ]
  },
  {
   "cell_type": "code",
   "execution_count": 28,
   "id": "suspended-hardware",
   "metadata": {},
   "outputs": [
    {
     "name": "stdout",
     "output_type": "stream",
     "text": [
      "Precision: 0.07142857142857142\n",
      "Recall: 0.07142857142857142\n",
      "F1: 0.07142857142857142\n",
      "Log_loss: 2.7434376202676285\n",
      "ROC AUC: 0.7121580547112462\n"
     ]
    }
   ],
   "source": [
    "y_pred = dt.predict(X_test)\n",
    "\n",
    "print(f\"Precision: {precision_score(y_test, y_pred)}\")\n",
    "print(f\"Recall: {recall_score(y_test, y_pred)}\")\n",
    "print(f\"F1: {f1_score(y_test, y_pred)}\")\n",
    "print(f\"Log_loss: {log_loss(y_test, y_pred)}\")\n",
    "print(f\"ROC AUC: {roc_auc_score(y_test, lm1.predict_proba(X_test)[:,1])}\")"
   ]
  },
  {
   "cell_type": "markdown",
   "id": "supreme-central",
   "metadata": {},
   "source": [
    "## Random Forest with Cross-Fold Validation"
   ]
  },
  {
   "cell_type": "code",
   "execution_count": 29,
   "id": "equivalent-advance",
   "metadata": {},
   "outputs": [
    {
     "name": "stdout",
     "output_type": "stream",
     "text": [
      "{'max_depth': 8, 'max_features': 'sqrt', 'n_estimators': 200}\n",
      "Best score of neg_log_loss -0.23077199509475518\n",
      "Random Forest Classifier with CV -\n",
      "Precision: 0.16129032258064516\n",
      "Recall: 0.23809523809523808\n",
      "F1: 0.1923076923076923\n",
      "ROC AUC: 0.7804204660587639\n"
     ]
    }
   ],
   "source": [
    "# class_weight={0:1,1:3}, best log_loss score\n",
    "rfc = RandomForestClassifier(n_jobs=-1 ,n_estimators=200, oob_score = True, class_weight={0:1,1:3}) \n",
    "\n",
    "param_grid = { \n",
    "    'n_estimators': [100, 200],\n",
    "    'max_depth': [2,4,8],\n",
    "    'max_features': ['auto', 'sqrt', 'log2']   \n",
    "}\n",
    "\n",
    "CV_rfc = GridSearchCV(estimator=rfc, param_grid=param_grid, cv=5, scoring='neg_log_loss')\n",
    "CV_rfc.fit(X_tr_rs, y_tr_rs)\n",
    "print(CV_rfc.best_params_)\n",
    "\n",
    "print('Best score of neg_log_loss', CV_rfc.best_score_)\n",
    "\n",
    "y_pred_rfc = CV_rfc.predict(X_test)\n",
    "\n",
    "print(\"Random Forest Classifier with CV -\")\n",
    "print(f\"Precision: {precision_score(y_test, y_pred_rfc, zero_division=0)}\")\n",
    "print(f\"Recall: {recall_score(y_test, y_pred_rfc, zero_division=0)}\")\n",
    "print(f\"F1: {f1_score(y_test, y_pred_rfc, zero_division=0)}\")\n",
    "print(f\"ROC AUC: {roc_auc_score(y_test, CV_rfc.predict_proba(X_test)[:,1])}\")"
   ]
  },
  {
   "cell_type": "code",
   "execution_count": 30,
   "id": "endless-turkey",
   "metadata": {},
   "outputs": [
    {
     "name": "stdout",
     "output_type": "stream",
     "text": [
      "{'max_depth': 8, 'max_features': 'sqrt', 'n_estimators': 200}\n",
      "Best score of neg_log_loss -0.2493425611428997\n",
      "Random Forest Classifier with CV -\n",
      "Precision: 0.15151515151515152\n",
      "Recall: 0.35714285714285715\n",
      "F1: 0.21276595744680848\n",
      "ROC AUC: 0.7809270516717325\n"
     ]
    }
   ],
   "source": [
    "# class_weight={0:1,1:4})\n",
    "\n",
    "rfc = RandomForestClassifier(n_jobs=-1 ,n_estimators=200, oob_score = True, class_weight={0:1,1:4}) \n",
    "\n",
    "param_grid = { \n",
    "    'n_estimators': [100, 200],\n",
    "    'max_depth': [2,4,8],\n",
    "    'max_features': ['auto', 'sqrt', 'log2']   \n",
    "}\n",
    "\n",
    "CV_rfc = GridSearchCV(estimator=rfc, param_grid=param_grid, cv=5, scoring='neg_log_loss')\n",
    "CV_rfc.fit(X_tr_rs, y_tr_rs)\n",
    "print(CV_rfc.best_params_)\n",
    "\n",
    "print('Best score of neg_log_loss', CV_rfc.best_score_)\n",
    "\n",
    "y_pred_rfc = CV_rfc.predict(X_test)\n",
    "\n",
    "print(\"Random Forest Classifier with CV -\")\n",
    "print(f\"Precision: {precision_score(y_test, y_pred_rfc, zero_division=0)}\")\n",
    "print(f\"Recall: {recall_score(y_test, y_pred_rfc, zero_division=0)}\")\n",
    "print(f\"F1: {f1_score(y_test, y_pred_rfc, zero_division=0)}\")\n",
    "print(f\"ROC AUC: {roc_auc_score(y_test, CV_rfc.predict_proba(X_test)[:,1])}\")"
   ]
  },
  {
   "cell_type": "markdown",
   "id": "better-convenience",
   "metadata": {},
   "source": [
    "### Best model parameters"
   ]
  },
  {
   "cell_type": "code",
   "execution_count": 31,
   "id": "provincial-foster",
   "metadata": {},
   "outputs": [
    {
     "name": "stdout",
     "output_type": "stream",
     "text": [
      "{'max_depth': 8, 'max_features': 'log2', 'n_estimators': 200}\n",
      "Best score of neg_log_loss -0.2676843882267005\n",
      "Random Forest Classifier with CV -\n",
      "Precision: 0.12857142857142856\n",
      "Recall: 0.42857142857142855\n",
      "F1: 0.19780219780219777\n",
      "ROC AUC: 0.7833586626139817\n"
     ]
    }
   ],
   "source": [
    "# Best model parameters, best auc score and recall score\n",
    "# class_weight={0:1,1:5}), n_estimators=200\n",
    "\n",
    "rfc = RandomForestClassifier(n_jobs=-1 ,n_estimators=200, oob_score = True, class_weight={0:1,1:5}) \n",
    "\n",
    "param_grid = { \n",
    "    'n_estimators': [100, 200],\n",
    "    'max_depth': [2,4,8],\n",
    "    'max_features': ['auto', 'sqrt', 'log2']   \n",
    "}\n",
    "\n",
    "CV_rfc = GridSearchCV(estimator=rfc, param_grid=param_grid, cv=5, scoring='neg_log_loss')\n",
    "CV_rfc.fit(X_tr_rs, y_tr_rs)\n",
    "print(CV_rfc.best_params_)\n",
    "\n",
    "print('Best score of neg_log_loss', CV_rfc.best_score_)\n",
    "\n",
    "y_pred_rfc = CV_rfc.predict(X_test)\n",
    "\n",
    "print(\"Random Forest Classifier with CV -\")\n",
    "print(f\"Precision: {precision_score(y_test, y_pred_rfc, zero_division=0)}\")\n",
    "print(f\"Recall: {recall_score(y_test, y_pred_rfc, zero_division=0)}\")\n",
    "print(f\"F1: {f1_score(y_test, y_pred_rfc, zero_division=0)}\")\n",
    "print(f\"ROC AUC: {roc_auc_score(y_test, CV_rfc.predict_proba(X_test)[:,1])}\")"
   ]
  },
  {
   "cell_type": "code",
   "execution_count": 32,
   "id": "popular-announcement",
   "metadata": {},
   "outputs": [
    {
     "name": "stdout",
     "output_type": "stream",
     "text": [
      "{'max_depth': 8, 'max_features': 'auto', 'n_estimators': 200}\n",
      "Best score of neg_log_loss -0.26729820002018906\n",
      "Random Forest Classifier with CV -\n",
      "Precision: 0.13333333333333333\n",
      "Recall: 0.42857142857142855\n",
      "F1: 0.20338983050847456\n",
      "ROC AUC: 0.7861195542046606\n"
     ]
    }
   ],
   "source": [
    "# class_weight={0:1,1:5}, n_estimators=300\n",
    "\n",
    "rfc = RandomForestClassifier(n_jobs=-1 ,n_estimators=300, oob_score = True, class_weight={0:1,1:5}) \n",
    "\n",
    "param_grid = { \n",
    "    'n_estimators': [100, 200],\n",
    "    'max_depth': [2,4,8],\n",
    "    'max_features': ['auto', 'sqrt', 'log2']   \n",
    "}\n",
    "\n",
    "CV_rfc = GridSearchCV(estimator=rfc, param_grid=param_grid, cv=5, scoring='neg_log_loss')\n",
    "CV_rfc.fit(X_tr_rs, y_tr_rs)\n",
    "print(CV_rfc.best_params_)\n",
    "\n",
    "print('Best score of neg_log_loss', CV_rfc.best_score_)\n",
    "\n",
    "y_pred_rfc = CV_rfc.predict(X_test)\n",
    "\n",
    "print(\"Random Forest Classifier with CV -\")\n",
    "print(f\"Precision: {precision_score(y_test, y_pred_rfc, zero_division=0)}\")\n",
    "print(f\"Recall: {recall_score(y_test, y_pred_rfc, zero_division=0)}\")\n",
    "print(f\"F1: {f1_score(y_test, y_pred_rfc, zero_division=0)}\")\n",
    "print(f\"ROC AUC: {roc_auc_score(y_test, CV_rfc.predict_proba(X_test)[:,1])}\")"
   ]
  },
  {
   "cell_type": "code",
   "execution_count": 33,
   "id": "invalid-boundary",
   "metadata": {},
   "outputs": [
    {
     "name": "stdout",
     "output_type": "stream",
     "text": [
      "{'max_depth': 8, 'max_features': 'sqrt', 'n_estimators': 100}\n",
      "Best score of neg_log_loss -0.2844313535614256\n",
      "Random Forest Classifier with CV -\n",
      "Precision: 0.12222222222222222\n",
      "Recall: 0.5238095238095238\n",
      "F1: 0.19819819819819817\n",
      "ROC AUC: 0.7908308004052684\n"
     ]
    }
   ],
   "source": [
    "# class_weight={0:1,1:6}, n_estimators=200\n",
    "\n",
    "rfc = RandomForestClassifier(n_jobs=-1 ,n_estimators=200, oob_score = True, class_weight={0:1,1:6}) \n",
    "\n",
    "param_grid = { \n",
    "    'n_estimators': [100, 200],\n",
    "    'max_depth': [2,4,8],\n",
    "    'max_features': ['auto', 'sqrt', 'log2']   \n",
    "}\n",
    "\n",
    "CV_rfc = GridSearchCV(estimator=rfc, param_grid=param_grid, cv=5, scoring='neg_log_loss')\n",
    "CV_rfc.fit(X_tr_rs, y_tr_rs)\n",
    "print(CV_rfc.best_params_)\n",
    "\n",
    "print('Best score of neg_log_loss', CV_rfc.best_score_)\n",
    "\n",
    "y_pred_rfc = CV_rfc.predict(X_test)\n",
    "\n",
    "print(\"Random Forest Classifier with CV -\")\n",
    "print(f\"Precision: {precision_score(y_test, y_pred_rfc, zero_division=0)}\")\n",
    "print(f\"Recall: {recall_score(y_test, y_pred_rfc, zero_division=0)}\")\n",
    "print(f\"F1: {f1_score(y_test, y_pred_rfc, zero_division=0)}\")\n",
    "print(f\"ROC AUC: {roc_auc_score(y_test, CV_rfc.predict_proba(X_test)[:,1])}\")"
   ]
  },
  {
   "cell_type": "code",
   "execution_count": 34,
   "id": "physical-legislation",
   "metadata": {},
   "outputs": [
    {
     "name": "stdout",
     "output_type": "stream",
     "text": [
      "Mean ROC AUC: 0.719\n",
      "Mean logloss: -0.227\n",
      "Mean precision: 0.100\n",
      "Mean recall: 0.022\n"
     ]
    }
   ],
   "source": [
    "# sklearn.metrics.SCORERS.keys()\n",
    "\n",
    "from sklearn.model_selection import cross_val_score\n",
    "from sklearn.model_selection import RepeatedStratifiedKFold\n",
    "from numpy import mean\n",
    "\n",
    "rfc = RandomForestClassifier(n_jobs=-1 ,n_estimators=200, oob_score = True) \n",
    "rfc.fit(X_tr_rs, y_tr_rs)\n",
    "\n",
    "cv = RepeatedStratifiedKFold(n_splits=10, n_repeats=3, random_state=1)\n",
    "# evaluate model\n",
    "auc_scores = cross_val_score(rfc, X_test, y_test, scoring='roc_auc', cv=cv, n_jobs=-1)\n",
    "precision_scores = cross_val_score(rfc, X_test, y_test, scoring='precision', cv=cv, n_jobs=-1)\n",
    "recall_scores = cross_val_score(rfc, X_test, y_test, scoring='recall', cv=cv, n_jobs=-1)\n",
    "logloss_scores = cross_val_score(rfc, X_test, y_test, scoring='neg_log_loss', cv=cv, n_jobs=-1)\n",
    "# summarize performance\n",
    "print('Mean ROC AUC: %.3f' % mean(auc_scores))\n",
    "print('Mean logloss: %.3f' % mean(logloss_scores))\n",
    "print('Mean precision: %.3f' % mean(precision_scores))\n",
    "print('Mean recall: %.3f' % mean(recall_scores))"
   ]
  },
  {
   "cell_type": "code",
   "execution_count": 35,
   "id": "champion-grass",
   "metadata": {},
   "outputs": [
    {
     "name": "stdout",
     "output_type": "stream",
     "text": [
      "Mean ROC AUC: 0.737\n",
      "Mean logloss: -0.222\n",
      "Mean precision: 0.250\n",
      "Mean recall: 0.023\n"
     ]
    }
   ],
   "source": [
    "from sklearn.model_selection import StratifiedKFold\n",
    "\n",
    "rfc = RandomForestClassifier(n_jobs=-1 ,n_estimators=200, oob_score = True) \n",
    "rfc.fit(X_tr_rs, y_tr_rs)\n",
    "\n",
    "cv = StratifiedKFold(n_splits=4)\n",
    "# evaluate model\n",
    "auc_scores = cross_val_score(rfc, X_test, y_test, scoring='roc_auc', cv=cv, n_jobs=-1)\n",
    "logloss_scores = cross_val_score(rfc, X_test, y_test, scoring='neg_log_loss', cv=cv, n_jobs=-1)\n",
    "precision_scores = cross_val_score(rfc, X_test, y_test, scoring='precision', cv=cv, n_jobs=-1)\n",
    "recall_scores = cross_val_score(rfc, X_test, y_test, scoring='recall', cv=cv, n_jobs=-1)\n",
    "# summarize performance\n",
    "print('Mean ROC AUC: %.3f' % mean(auc_scores))\n",
    "print('Mean logloss: %.3f' % mean(logloss_scores))\n",
    "print('Mean precision: %.3f' % mean(precision_scores))\n",
    "print('Mean recall: %.3f' % mean(recall_scores))"
   ]
  },
  {
   "cell_type": "markdown",
   "id": "polar-shirt",
   "metadata": {},
   "source": [
    "## XGBoost"
   ]
  },
  {
   "cell_type": "code",
   "execution_count": 36,
   "id": "international-difficulty",
   "metadata": {},
   "outputs": [
    {
     "name": "stdout",
     "output_type": "stream",
     "text": [
      "[0]\tvalidation_0-auc:0.85007\tvalidation_1-auc:0.76356\n",
      "[1]\tvalidation_0-auc:0.86098\tvalidation_1-auc:0.75557\n",
      "[2]\tvalidation_0-auc:0.85842\tvalidation_1-auc:0.76550\n",
      "[3]\tvalidation_0-auc:0.87205\tvalidation_1-auc:0.77686\n",
      "[4]\tvalidation_0-auc:0.87423\tvalidation_1-auc:0.77608\n",
      "[5]\tvalidation_0-auc:0.87434\tvalidation_1-auc:0.76824\n",
      "[6]\tvalidation_0-auc:0.87478\tvalidation_1-auc:0.76306\n",
      "[7]\tvalidation_0-auc:0.87802\tvalidation_1-auc:0.76773\n",
      "[8]\tvalidation_0-auc:0.88447\tvalidation_1-auc:0.77757\n",
      "[9]\tvalidation_0-auc:0.88369\tvalidation_1-auc:0.77756\n",
      "[10]\tvalidation_0-auc:0.88685\tvalidation_1-auc:0.78688\n",
      "[11]\tvalidation_0-auc:0.88900\tvalidation_1-auc:0.78579\n",
      "[12]\tvalidation_0-auc:0.88948\tvalidation_1-auc:0.78746\n",
      "[13]\tvalidation_0-auc:0.88989\tvalidation_1-auc:0.79067\n",
      "[14]\tvalidation_0-auc:0.89068\tvalidation_1-auc:0.79080\n",
      "[15]\tvalidation_0-auc:0.89210\tvalidation_1-auc:0.79320\n",
      "[16]\tvalidation_0-auc:0.89425\tvalidation_1-auc:0.79244\n",
      "[17]\tvalidation_0-auc:0.89460\tvalidation_1-auc:0.79255\n",
      "[18]\tvalidation_0-auc:0.89642\tvalidation_1-auc:0.79333\n",
      "[19]\tvalidation_0-auc:0.89684\tvalidation_1-auc:0.79396\n",
      "[20]\tvalidation_0-auc:0.89714\tvalidation_1-auc:0.79415\n",
      "[21]\tvalidation_0-auc:0.89757\tvalidation_1-auc:0.79528\n",
      "[22]\tvalidation_0-auc:0.89887\tvalidation_1-auc:0.79449\n",
      "[23]\tvalidation_0-auc:0.89917\tvalidation_1-auc:0.79563\n",
      "[24]\tvalidation_0-auc:0.90078\tvalidation_1-auc:0.79581\n",
      "[25]\tvalidation_0-auc:0.90165\tvalidation_1-auc:0.79791\n",
      "[26]\tvalidation_0-auc:0.90189\tvalidation_1-auc:0.79756\n",
      "[27]\tvalidation_0-auc:0.90330\tvalidation_1-auc:0.79904\n",
      "[28]\tvalidation_0-auc:0.90347\tvalidation_1-auc:0.79965\n",
      "[29]\tvalidation_0-auc:0.90497\tvalidation_1-auc:0.79952\n",
      "[30]\tvalidation_0-auc:0.90681\tvalidation_1-auc:0.79714\n",
      "[31]\tvalidation_0-auc:0.90722\tvalidation_1-auc:0.79697\n",
      "[32]\tvalidation_0-auc:0.90841\tvalidation_1-auc:0.79635\n",
      "[33]\tvalidation_0-auc:0.90923\tvalidation_1-auc:0.79582\n",
      "[34]\tvalidation_0-auc:0.90931\tvalidation_1-auc:0.79651\n",
      "[35]\tvalidation_0-auc:0.91053\tvalidation_1-auc:0.79378\n",
      "[36]\tvalidation_0-auc:0.91210\tvalidation_1-auc:0.79758\n",
      "[37]\tvalidation_0-auc:0.91247\tvalidation_1-auc:0.79897\n",
      "[38]\tvalidation_0-auc:0.91353\tvalidation_1-auc:0.79981\n",
      "[39]\tvalidation_0-auc:0.91374\tvalidation_1-auc:0.79948\n",
      "[40]\tvalidation_0-auc:0.91478\tvalidation_1-auc:0.79943\n",
      "[41]\tvalidation_0-auc:0.91530\tvalidation_1-auc:0.79887\n",
      "[42]\tvalidation_0-auc:0.91607\tvalidation_1-auc:0.80002\n",
      "[43]\tvalidation_0-auc:0.91646\tvalidation_1-auc:0.80091\n",
      "[44]\tvalidation_0-auc:0.91668\tvalidation_1-auc:0.80066\n",
      "[45]\tvalidation_0-auc:0.91669\tvalidation_1-auc:0.80086\n",
      "[46]\tvalidation_0-auc:0.91798\tvalidation_1-auc:0.79952\n",
      "[47]\tvalidation_0-auc:0.91825\tvalidation_1-auc:0.79952\n",
      "[48]\tvalidation_0-auc:0.91939\tvalidation_1-auc:0.79989\n",
      "[49]\tvalidation_0-auc:0.91941\tvalidation_1-auc:0.79994\n",
      "[50]\tvalidation_0-auc:0.91981\tvalidation_1-auc:0.80077\n",
      "[51]\tvalidation_0-auc:0.91999\tvalidation_1-auc:0.80075\n",
      "[52]\tvalidation_0-auc:0.92163\tvalidation_1-auc:0.80158\n",
      "[53]\tvalidation_0-auc:0.92182\tvalidation_1-auc:0.80141\n",
      "[54]\tvalidation_0-auc:0.92272\tvalidation_1-auc:0.80025\n",
      "[55]\tvalidation_0-auc:0.92313\tvalidation_1-auc:0.80081\n",
      "[56]\tvalidation_0-auc:0.92368\tvalidation_1-auc:0.80015\n",
      "[57]\tvalidation_0-auc:0.92438\tvalidation_1-auc:0.79990\n",
      "[58]\tvalidation_0-auc:0.92450\tvalidation_1-auc:0.79967\n"
     ]
    },
    {
     "name": "stderr",
     "output_type": "stream",
     "text": [
      "/Users/bsameera/opt/anaconda3/envs/metis/lib/python3.8/site-packages/xgboost/sklearn.py:888: UserWarning: The use of label encoder in XGBClassifier is deprecated and will be removed in a future release. To remove this warning, do the following: 1) Pass option use_label_encoder=False when constructing XGBClassifier object; and 2) Encode your labels (y) as integers starting with 0, i.e. 0, 1, 2, ..., [num_class - 1].\n",
      "  warnings.warn(label_encoder_deprecation_msg, UserWarning)\n"
     ]
    },
    {
     "name": "stdout",
     "output_type": "stream",
     "text": [
      "[59]\tvalidation_0-auc:0.92670\tvalidation_1-auc:0.80122\n",
      "[60]\tvalidation_0-auc:0.92737\tvalidation_1-auc:0.80036\n",
      "[61]\tvalidation_0-auc:0.92758\tvalidation_1-auc:0.80033\n",
      "[62]\tvalidation_0-auc:0.92770\tvalidation_1-auc:0.80018\n",
      "[63]\tvalidation_0-auc:0.92794\tvalidation_1-auc:0.80013\n",
      "[64]\tvalidation_0-auc:0.92884\tvalidation_1-auc:0.80063\n",
      "[65]\tvalidation_0-auc:0.92938\tvalidation_1-auc:0.80124\n",
      "[66]\tvalidation_0-auc:0.92929\tvalidation_1-auc:0.80160\n",
      "[67]\tvalidation_0-auc:0.92953\tvalidation_1-auc:0.80142\n",
      "[68]\tvalidation_0-auc:0.92993\tvalidation_1-auc:0.80063\n",
      "[69]\tvalidation_0-auc:0.93097\tvalidation_1-auc:0.80109\n",
      "[70]\tvalidation_0-auc:0.93313\tvalidation_1-auc:0.80277\n",
      "[71]\tvalidation_0-auc:0.93329\tvalidation_1-auc:0.80290\n",
      "[72]\tvalidation_0-auc:0.93362\tvalidation_1-auc:0.80368\n",
      "[73]\tvalidation_0-auc:0.93387\tvalidation_1-auc:0.80381\n",
      "[74]\tvalidation_0-auc:0.93416\tvalidation_1-auc:0.80379\n",
      "[75]\tvalidation_0-auc:0.93562\tvalidation_1-auc:0.80331\n",
      "[76]\tvalidation_0-auc:0.93588\tvalidation_1-auc:0.80356\n",
      "[77]\tvalidation_0-auc:0.93639\tvalidation_1-auc:0.80298\n",
      "[78]\tvalidation_0-auc:0.93663\tvalidation_1-auc:0.80303\n",
      "[79]\tvalidation_0-auc:0.93805\tvalidation_1-auc:0.80318\n",
      "[80]\tvalidation_0-auc:0.93861\tvalidation_1-auc:0.80313\n",
      "[81]\tvalidation_0-auc:0.93958\tvalidation_1-auc:0.80503\n",
      "[82]\tvalidation_0-auc:0.93984\tvalidation_1-auc:0.80442\n",
      "[83]\tvalidation_0-auc:0.94060\tvalidation_1-auc:0.80338\n",
      "[84]\tvalidation_0-auc:0.94237\tvalidation_1-auc:0.80309\n",
      "[85]\tvalidation_0-auc:0.94257\tvalidation_1-auc:0.80329\n",
      "[86]\tvalidation_0-auc:0.94351\tvalidation_1-auc:0.80299\n",
      "[87]\tvalidation_0-auc:0.94498\tvalidation_1-auc:0.80281\n",
      "[88]\tvalidation_0-auc:0.94515\tvalidation_1-auc:0.80236\n",
      "[89]\tvalidation_0-auc:0.94632\tvalidation_1-auc:0.80274\n",
      "[90]\tvalidation_0-auc:0.94706\tvalidation_1-auc:0.80241\n",
      "[91]\tvalidation_0-auc:0.94717\tvalidation_1-auc:0.80236\n",
      "[92]\tvalidation_0-auc:0.94773\tvalidation_1-auc:0.80248\n",
      "[93]\tvalidation_0-auc:0.94794\tvalidation_1-auc:0.80312\n",
      "[94]\tvalidation_0-auc:0.94879\tvalidation_1-auc:0.80372\n",
      "[95]\tvalidation_0-auc:0.94994\tvalidation_1-auc:0.80426\n",
      "[96]\tvalidation_0-auc:0.95016\tvalidation_1-auc:0.80484\n",
      "[97]\tvalidation_0-auc:0.95022\tvalidation_1-auc:0.80502\n",
      "[98]\tvalidation_0-auc:0.95067\tvalidation_1-auc:0.80532\n",
      "[99]\tvalidation_0-auc:0.95142\tvalidation_1-auc:0.80572\n",
      "[100]\tvalidation_0-auc:0.95208\tvalidation_1-auc:0.80466\n",
      "[101]\tvalidation_0-auc:0.95317\tvalidation_1-auc:0.80436\n",
      "[102]\tvalidation_0-auc:0.95359\tvalidation_1-auc:0.80474\n",
      "[103]\tvalidation_0-auc:0.95370\tvalidation_1-auc:0.80514\n",
      "[104]\tvalidation_0-auc:0.95395\tvalidation_1-auc:0.80474\n",
      "[105]\tvalidation_0-auc:0.95451\tvalidation_1-auc:0.80499\n",
      "[106]\tvalidation_0-auc:0.95529\tvalidation_1-auc:0.80469\n",
      "[107]\tvalidation_0-auc:0.95556\tvalidation_1-auc:0.80453\n",
      "[108]\tvalidation_0-auc:0.95567\tvalidation_1-auc:0.80562\n",
      "[109]\tvalidation_0-auc:0.95598\tvalidation_1-auc:0.80580\n",
      "[110]\tvalidation_0-auc:0.95660\tvalidation_1-auc:0.80583\n",
      "[111]\tvalidation_0-auc:0.95737\tvalidation_1-auc:0.80585\n",
      "[112]\tvalidation_0-auc:0.95807\tvalidation_1-auc:0.80448\n",
      "[113]\tvalidation_0-auc:0.95850\tvalidation_1-auc:0.80423\n",
      "[114]\tvalidation_0-auc:0.95854\tvalidation_1-auc:0.80418\n",
      "[115]\tvalidation_0-auc:0.95864\tvalidation_1-auc:0.80418\n",
      "[116]\tvalidation_0-auc:0.95917\tvalidation_1-auc:0.80370\n",
      "[117]\tvalidation_0-auc:0.96061\tvalidation_1-auc:0.80438\n",
      "[118]\tvalidation_0-auc:0.96094\tvalidation_1-auc:0.80474\n",
      "[119]\tvalidation_0-auc:0.96168\tvalidation_1-auc:0.80372\n",
      "[120]\tvalidation_0-auc:0.96247\tvalidation_1-auc:0.80405\n",
      "[121]\tvalidation_0-auc:0.96307\tvalidation_1-auc:0.80377\n",
      "[122]\tvalidation_0-auc:0.96426\tvalidation_1-auc:0.80405\n",
      "[123]\tvalidation_0-auc:0.96467\tvalidation_1-auc:0.80398\n",
      "[124]\tvalidation_0-auc:0.96505\tvalidation_1-auc:0.80431\n",
      "[125]\tvalidation_0-auc:0.96515\tvalidation_1-auc:0.80426\n",
      "[126]\tvalidation_0-auc:0.96526\tvalidation_1-auc:0.80395\n",
      "[127]\tvalidation_0-auc:0.96590\tvalidation_1-auc:0.80355\n",
      "[128]\tvalidation_0-auc:0.96643\tvalidation_1-auc:0.80481\n",
      "[129]\tvalidation_0-auc:0.96658\tvalidation_1-auc:0.80400\n",
      "[130]\tvalidation_0-auc:0.96715\tvalidation_1-auc:0.80349\n"
     ]
    }
   ],
   "source": [
    "gbm = xgb.XGBClassifier( \n",
    "                       n_estimators=30000, #arbitrary large number\n",
    "                       max_depth=3,\n",
    "                       objective=\"binary:logistic\",  # Other options: https://xgboost.readthedocs.io/en/latest/parameter.html#learning-task-parameters\n",
    "                       learning_rate=.1, \n",
    "                       subsample=1,\n",
    "                       min_child_weight=1,\n",
    "                       colsample_bytree=.8\n",
    "                      )\n",
    "\n",
    "eval_set=[(X_tr_rs,y_tr_rs),(X_test,y_test)] #tracking train/validation error as we go\n",
    "fit_model = gbm.fit( \n",
    "                    X_tr_rs, y_tr_rs, \n",
    "                    eval_set=eval_set,\n",
    "                    eval_metric='auc',\n",
    "                    early_stopping_rounds=20,\n",
    "                    #verbose=True      #gives output log as below - deprecated\n",
    "                   )"
   ]
  },
  {
   "cell_type": "code",
   "execution_count": 37,
   "id": "fitted-confusion",
   "metadata": {},
   "outputs": [
    {
     "name": "stdout",
     "output_type": "stream",
     "text": [
      "AUC :  0.8058510638297872\n",
      "Log_loss:  1.8992923825755605\n",
      "Precision :  0.125\n",
      "Recall :  0.047619047619047616\n",
      "f1_score :  0.06896551724137931\n"
     ]
    }
   ],
   "source": [
    "print('AUC : ', roc_auc_score(y_test, gbm.predict_proba(X_test)[:,1]))\n",
    "print('Log_loss: ', log_loss(y_test, gbm.predict(X_test)))\n",
    "print('Precision : ', precision_score(y_test, gbm.predict(X_test)))\n",
    "print('Recall : ', recall_score(y_test, gbm.predict(X_test)))\n",
    "print('f1_score : ', f1_score(y_test, gbm.predict(X_test)))"
   ]
  },
  {
   "cell_type": "code",
   "execution_count": 38,
   "id": "genuine-consumption",
   "metadata": {},
   "outputs": [
    {
     "name": "stdout",
     "output_type": "stream",
     "text": [
      "[0]\tvalidation_0-logloss:0.63507\tvalidation_1-logloss:0.62581\n",
      "[1]\tvalidation_0-logloss:0.59053\tvalidation_1-logloss:0.57176\n",
      "[2]\tvalidation_0-logloss:0.55321\tvalidation_1-logloss:0.52537\n",
      "[3]\tvalidation_0-logloss:0.51803\tvalidation_1-logloss:0.48472\n",
      "[4]\tvalidation_0-logloss:0.48808\tvalidation_1-logloss:0.45029\n",
      "[5]\tvalidation_0-logloss:0.46530\tvalidation_1-logloss:0.42137\n",
      "[6]\tvalidation_0-logloss:0.44630\tvalidation_1-logloss:0.39630\n",
      "[7]\tvalidation_0-logloss:0.42645\tvalidation_1-logloss:0.37360\n",
      "[8]\tvalidation_0-logloss:0.40929\tvalidation_1-logloss:0.35322\n",
      "[9]\tvalidation_0-logloss:0.39633\tvalidation_1-logloss:0.33653\n",
      "[10]\tvalidation_0-logloss:0.38279\tvalidation_1-logloss:0.32061\n",
      "[11]\tvalidation_0-logloss:0.37064\tvalidation_1-logloss:0.30707\n",
      "[12]\tvalidation_0-logloss:0.36007\tvalidation_1-logloss:0.29512\n",
      "[13]\tvalidation_0-logloss:0.35069\tvalidation_1-logloss:0.28424\n",
      "[14]\tvalidation_0-logloss:0.34239\tvalidation_1-logloss:0.27492\n",
      "[15]\tvalidation_0-logloss:0.33498\tvalidation_1-logloss:0.26630\n",
      "[16]\tvalidation_0-logloss:0.32830\tvalidation_1-logloss:0.25929\n",
      "[17]\tvalidation_0-logloss:0.32244\tvalidation_1-logloss:0.25301\n",
      "[18]\tvalidation_0-logloss:0.31848\tvalidation_1-logloss:0.24710\n",
      "[19]\tvalidation_0-logloss:0.31359\tvalidation_1-logloss:0.24187\n",
      "[20]\tvalidation_0-logloss:0.30907\tvalidation_1-logloss:0.23711\n",
      "[21]\tvalidation_0-logloss:0.30487\tvalidation_1-logloss:0.23254\n",
      "[22]\tvalidation_0-logloss:0.30092\tvalidation_1-logloss:0.22886\n",
      "[23]\tvalidation_0-logloss:0.29758\tvalidation_1-logloss:0.22562\n",
      "[24]\tvalidation_0-logloss:0.29520\tvalidation_1-logloss:0.22269\n",
      "[25]\tvalidation_0-logloss:0.29209\tvalidation_1-logloss:0.21949\n",
      "[26]\tvalidation_0-logloss:0.28951\tvalidation_1-logloss:0.21718\n",
      "[27]\tvalidation_0-logloss:0.28777\tvalidation_1-logloss:0.21471\n",
      "[28]\tvalidation_0-logloss:0.28540\tvalidation_1-logloss:0.21279\n",
      "[29]\tvalidation_0-logloss:0.28281\tvalidation_1-logloss:0.21074\n",
      "[30]\tvalidation_0-logloss:0.28037\tvalidation_1-logloss:0.20936\n",
      "[31]\tvalidation_0-logloss:0.27869\tvalidation_1-logloss:0.20788\n",
      "[32]\tvalidation_0-logloss:0.27654\tvalidation_1-logloss:0.20646\n",
      "[33]\tvalidation_0-logloss:0.27470\tvalidation_1-logloss:0.20529\n",
      "[34]\tvalidation_0-logloss:0.27324\tvalidation_1-logloss:0.20439\n",
      "[35]\tvalidation_0-logloss:0.27182\tvalidation_1-logloss:0.20361\n",
      "[36]\tvalidation_0-logloss:0.26982\tvalidation_1-logloss:0.20245\n",
      "[37]\tvalidation_0-logloss:0.26837\tvalidation_1-logloss:0.20151\n",
      "[38]\tvalidation_0-logloss:0.26731\tvalidation_1-logloss:0.20068\n",
      "[39]\tvalidation_0-logloss:0.26614\tvalidation_1-logloss:0.19999\n",
      "[40]\tvalidation_0-logloss:0.26468\tvalidation_1-logloss:0.19924\n",
      "[41]\tvalidation_0-logloss:0.26338\tvalidation_1-logloss:0.19869\n",
      "[42]\tvalidation_0-logloss:0.26224\tvalidation_1-logloss:0.19799\n",
      "[43]\tvalidation_0-logloss:0.26113\tvalidation_1-logloss:0.19759\n",
      "[44]\tvalidation_0-logloss:0.26037\tvalidation_1-logloss:0.19712\n",
      "[45]\tvalidation_0-logloss:0.25975\tvalidation_1-logloss:0.19677\n",
      "[46]\tvalidation_0-logloss:0.25813\tvalidation_1-logloss:0.19656\n",
      "[47]\tvalidation_0-logloss:0.25737\tvalidation_1-logloss:0.19623\n",
      "[48]\tvalidation_0-logloss:0.25664\tvalidation_1-logloss:0.19595\n",
      "[49]\tvalidation_0-logloss:0.25579\tvalidation_1-logloss:0.19559\n",
      "[50]\tvalidation_0-logloss:0.25482\tvalidation_1-logloss:0.19518\n",
      "[51]\tvalidation_0-logloss:0.25435\tvalidation_1-logloss:0.19500\n",
      "[52]\tvalidation_0-logloss:0.25324\tvalidation_1-logloss:0.19429\n",
      "[53]\tvalidation_0-logloss:0.25270\tvalidation_1-logloss:0.19416\n",
      "[54]\tvalidation_0-logloss:0.25167\tvalidation_1-logloss:0.19441\n",
      "[55]\tvalidation_0-logloss:0.25104\tvalidation_1-logloss:0.19424\n",
      "[56]\tvalidation_0-logloss:0.25010\tvalidation_1-logloss:0.19434\n",
      "[57]\tvalidation_0-logloss:0.24951\tvalidation_1-logloss:0.19403\n",
      "[58]\tvalidation_0-logloss:0.24920\tvalidation_1-logloss:0.19396\n",
      "[59]\tvalidation_0-logloss:0.24731\tvalidation_1-logloss:0.19347\n",
      "[60]\tvalidation_0-logloss:0.24674\tvalidation_1-logloss:0.19368\n",
      "[61]\tvalidation_0-logloss:0.24636\tvalidation_1-logloss:0.19366\n",
      "[62]\tvalidation_0-logloss:0.24599\tvalidation_1-logloss:0.19364\n",
      "[63]\tvalidation_0-logloss:0.24547\tvalidation_1-logloss:0.19365\n",
      "[64]\tvalidation_0-logloss:0.24459\tvalidation_1-logloss:0.19318\n",
      "[65]\tvalidation_0-logloss:0.24397\tvalidation_1-logloss:0.19301\n",
      "[66]\tvalidation_0-logloss:0.24378\tvalidation_1-logloss:0.19300\n",
      "[67]\tvalidation_0-logloss:0.24342\tvalidation_1-logloss:0.19291\n",
      "[68]\tvalidation_0-logloss:0.24293\tvalidation_1-logloss:0.19274\n"
     ]
    },
    {
     "name": "stderr",
     "output_type": "stream",
     "text": [
      "/Users/bsameera/opt/anaconda3/envs/metis/lib/python3.8/site-packages/xgboost/sklearn.py:888: UserWarning: The use of label encoder in XGBClassifier is deprecated and will be removed in a future release. To remove this warning, do the following: 1) Pass option use_label_encoder=False when constructing XGBClassifier object; and 2) Encode your labels (y) as integers starting with 0, i.e. 0, 1, 2, ..., [num_class - 1].\n",
      "  warnings.warn(label_encoder_deprecation_msg, UserWarning)\n"
     ]
    },
    {
     "name": "stdout",
     "output_type": "stream",
     "text": [
      "[69]\tvalidation_0-logloss:0.24189\tvalidation_1-logloss:0.19230\n",
      "[70]\tvalidation_0-logloss:0.24015\tvalidation_1-logloss:0.19200\n",
      "[71]\tvalidation_0-logloss:0.23984\tvalidation_1-logloss:0.19187\n",
      "[72]\tvalidation_0-logloss:0.23919\tvalidation_1-logloss:0.19176\n",
      "[73]\tvalidation_0-logloss:0.23877\tvalidation_1-logloss:0.19180\n",
      "[74]\tvalidation_0-logloss:0.23833\tvalidation_1-logloss:0.19172\n",
      "[75]\tvalidation_0-logloss:0.23704\tvalidation_1-logloss:0.19188\n",
      "[76]\tvalidation_0-logloss:0.23660\tvalidation_1-logloss:0.19169\n",
      "[77]\tvalidation_0-logloss:0.23567\tvalidation_1-logloss:0.19147\n",
      "[78]\tvalidation_0-logloss:0.23538\tvalidation_1-logloss:0.19145\n",
      "[79]\tvalidation_0-logloss:0.23409\tvalidation_1-logloss:0.19136\n",
      "[80]\tvalidation_0-logloss:0.23351\tvalidation_1-logloss:0.19131\n",
      "[81]\tvalidation_0-logloss:0.23230\tvalidation_1-logloss:0.19113\n",
      "[82]\tvalidation_0-logloss:0.23192\tvalidation_1-logloss:0.19103\n",
      "[83]\tvalidation_0-logloss:0.23095\tvalidation_1-logloss:0.19148\n",
      "[84]\tvalidation_0-logloss:0.22947\tvalidation_1-logloss:0.19117\n",
      "[85]\tvalidation_0-logloss:0.22913\tvalidation_1-logloss:0.19112\n",
      "[86]\tvalidation_0-logloss:0.22800\tvalidation_1-logloss:0.19098\n",
      "[87]\tvalidation_0-logloss:0.22649\tvalidation_1-logloss:0.19017\n",
      "[88]\tvalidation_0-logloss:0.22611\tvalidation_1-logloss:0.19015\n",
      "[89]\tvalidation_0-logloss:0.22472\tvalidation_1-logloss:0.19009\n",
      "[90]\tvalidation_0-logloss:0.22383\tvalidation_1-logloss:0.18969\n",
      "[91]\tvalidation_0-logloss:0.22369\tvalidation_1-logloss:0.18968\n",
      "[92]\tvalidation_0-logloss:0.22290\tvalidation_1-logloss:0.18951\n",
      "[93]\tvalidation_0-logloss:0.22256\tvalidation_1-logloss:0.18937\n",
      "[94]\tvalidation_0-logloss:0.22133\tvalidation_1-logloss:0.18913\n",
      "[95]\tvalidation_0-logloss:0.22010\tvalidation_1-logloss:0.18873\n",
      "[96]\tvalidation_0-logloss:0.21961\tvalidation_1-logloss:0.18854\n",
      "[97]\tvalidation_0-logloss:0.21939\tvalidation_1-logloss:0.18853\n",
      "[98]\tvalidation_0-logloss:0.21887\tvalidation_1-logloss:0.18821\n",
      "[99]\tvalidation_0-logloss:0.21791\tvalidation_1-logloss:0.18799\n",
      "[100]\tvalidation_0-logloss:0.21709\tvalidation_1-logloss:0.18805\n",
      "[101]\tvalidation_0-logloss:0.21589\tvalidation_1-logloss:0.18797\n",
      "[102]\tvalidation_0-logloss:0.21528\tvalidation_1-logloss:0.18762\n",
      "[103]\tvalidation_0-logloss:0.21500\tvalidation_1-logloss:0.18754\n",
      "[104]\tvalidation_0-logloss:0.21459\tvalidation_1-logloss:0.18760\n",
      "[105]\tvalidation_0-logloss:0.21359\tvalidation_1-logloss:0.18770\n",
      "[106]\tvalidation_0-logloss:0.21277\tvalidation_1-logloss:0.18779\n",
      "[107]\tvalidation_0-logloss:0.21188\tvalidation_1-logloss:0.18752\n",
      "[108]\tvalidation_0-logloss:0.21150\tvalidation_1-logloss:0.18726\n",
      "[109]\tvalidation_0-logloss:0.21104\tvalidation_1-logloss:0.18719\n",
      "[110]\tvalidation_0-logloss:0.21011\tvalidation_1-logloss:0.18720\n",
      "[111]\tvalidation_0-logloss:0.20941\tvalidation_1-logloss:0.18720\n",
      "[112]\tvalidation_0-logloss:0.20840\tvalidation_1-logloss:0.18785\n",
      "[113]\tvalidation_0-logloss:0.20769\tvalidation_1-logloss:0.18752\n",
      "[114]\tvalidation_0-logloss:0.20748\tvalidation_1-logloss:0.18749\n",
      "[115]\tvalidation_0-logloss:0.20726\tvalidation_1-logloss:0.18749\n",
      "[116]\tvalidation_0-logloss:0.20651\tvalidation_1-logloss:0.18746\n",
      "[117]\tvalidation_0-logloss:0.20511\tvalidation_1-logloss:0.18718\n",
      "[118]\tvalidation_0-logloss:0.20423\tvalidation_1-logloss:0.18696\n",
      "[119]\tvalidation_0-logloss:0.20312\tvalidation_1-logloss:0.18726\n",
      "[120]\tvalidation_0-logloss:0.20246\tvalidation_1-logloss:0.18711\n",
      "[121]\tvalidation_0-logloss:0.20186\tvalidation_1-logloss:0.18710\n",
      "[122]\tvalidation_0-logloss:0.20073\tvalidation_1-logloss:0.18683\n",
      "[123]\tvalidation_0-logloss:0.19998\tvalidation_1-logloss:0.18674\n",
      "[124]\tvalidation_0-logloss:0.19936\tvalidation_1-logloss:0.18640\n",
      "[125]\tvalidation_0-logloss:0.19911\tvalidation_1-logloss:0.18633\n",
      "[126]\tvalidation_0-logloss:0.19882\tvalidation_1-logloss:0.18628\n",
      "[127]\tvalidation_0-logloss:0.19788\tvalidation_1-logloss:0.18647\n",
      "[128]\tvalidation_0-logloss:0.19700\tvalidation_1-logloss:0.18606\n",
      "[129]\tvalidation_0-logloss:0.19656\tvalidation_1-logloss:0.18629\n",
      "[130]\tvalidation_0-logloss:0.19581\tvalidation_1-logloss:0.18612\n",
      "[131]\tvalidation_0-logloss:0.19534\tvalidation_1-logloss:0.18611\n",
      "[132]\tvalidation_0-logloss:0.19470\tvalidation_1-logloss:0.18596\n",
      "[133]\tvalidation_0-logloss:0.19406\tvalidation_1-logloss:0.18642\n",
      "[134]\tvalidation_0-logloss:0.19300\tvalidation_1-logloss:0.18631\n",
      "[135]\tvalidation_0-logloss:0.19220\tvalidation_1-logloss:0.18643\n",
      "[136]\tvalidation_0-logloss:0.19194\tvalidation_1-logloss:0.18649\n",
      "[137]\tvalidation_0-logloss:0.19144\tvalidation_1-logloss:0.18649\n",
      "[138]\tvalidation_0-logloss:0.19086\tvalidation_1-logloss:0.18643\n",
      "[139]\tvalidation_0-logloss:0.19076\tvalidation_1-logloss:0.18644\n",
      "[140]\tvalidation_0-logloss:0.18980\tvalidation_1-logloss:0.18614\n",
      "[141]\tvalidation_0-logloss:0.18924\tvalidation_1-logloss:0.18609\n",
      "[142]\tvalidation_0-logloss:0.18821\tvalidation_1-logloss:0.18557\n",
      "[143]\tvalidation_0-logloss:0.18732\tvalidation_1-logloss:0.18599\n",
      "[144]\tvalidation_0-logloss:0.18712\tvalidation_1-logloss:0.18610\n",
      "[145]\tvalidation_0-logloss:0.18694\tvalidation_1-logloss:0.18614\n",
      "[146]\tvalidation_0-logloss:0.18624\tvalidation_1-logloss:0.18611\n",
      "[147]\tvalidation_0-logloss:0.18595\tvalidation_1-logloss:0.18596\n",
      "[148]\tvalidation_0-logloss:0.18572\tvalidation_1-logloss:0.18606\n",
      "[149]\tvalidation_0-logloss:0.18516\tvalidation_1-logloss:0.18586\n",
      "[150]\tvalidation_0-logloss:0.18441\tvalidation_1-logloss:0.18608\n",
      "[151]\tvalidation_0-logloss:0.18396\tvalidation_1-logloss:0.18579\n",
      "[152]\tvalidation_0-logloss:0.18344\tvalidation_1-logloss:0.18603\n",
      "[153]\tvalidation_0-logloss:0.18275\tvalidation_1-logloss:0.18566\n",
      "[154]\tvalidation_0-logloss:0.18169\tvalidation_1-logloss:0.18553\n",
      "[155]\tvalidation_0-logloss:0.18138\tvalidation_1-logloss:0.18531\n",
      "[156]\tvalidation_0-logloss:0.18113\tvalidation_1-logloss:0.18548\n",
      "[157]\tvalidation_0-logloss:0.18054\tvalidation_1-logloss:0.18541\n",
      "[158]\tvalidation_0-logloss:0.17985\tvalidation_1-logloss:0.18524\n",
      "[159]\tvalidation_0-logloss:0.17894\tvalidation_1-logloss:0.18511\n",
      "[160]\tvalidation_0-logloss:0.17770\tvalidation_1-logloss:0.18476\n",
      "[161]\tvalidation_0-logloss:0.17682\tvalidation_1-logloss:0.18461\n",
      "[162]\tvalidation_0-logloss:0.17643\tvalidation_1-logloss:0.18445\n",
      "[163]\tvalidation_0-logloss:0.17575\tvalidation_1-logloss:0.18481\n",
      "[164]\tvalidation_0-logloss:0.17501\tvalidation_1-logloss:0.18480\n",
      "[165]\tvalidation_0-logloss:0.17485\tvalidation_1-logloss:0.18491\n",
      "[166]\tvalidation_0-logloss:0.17458\tvalidation_1-logloss:0.18488\n",
      "[167]\tvalidation_0-logloss:0.17381\tvalidation_1-logloss:0.18534\n",
      "[168]\tvalidation_0-logloss:0.17334\tvalidation_1-logloss:0.18522\n",
      "[169]\tvalidation_0-logloss:0.17260\tvalidation_1-logloss:0.18535\n",
      "[170]\tvalidation_0-logloss:0.17214\tvalidation_1-logloss:0.18538\n",
      "[171]\tvalidation_0-logloss:0.17194\tvalidation_1-logloss:0.18540\n",
      "[172]\tvalidation_0-logloss:0.17153\tvalidation_1-logloss:0.18553\n",
      "[173]\tvalidation_0-logloss:0.17062\tvalidation_1-logloss:0.18586\n",
      "[174]\tvalidation_0-logloss:0.17035\tvalidation_1-logloss:0.18570\n",
      "[175]\tvalidation_0-logloss:0.17011\tvalidation_1-logloss:0.18563\n",
      "[176]\tvalidation_0-logloss:0.16975\tvalidation_1-logloss:0.18565\n",
      "[177]\tvalidation_0-logloss:0.16929\tvalidation_1-logloss:0.18565\n",
      "[178]\tvalidation_0-logloss:0.16884\tvalidation_1-logloss:0.18566\n",
      "[179]\tvalidation_0-logloss:0.16822\tvalidation_1-logloss:0.18531\n",
      "[180]\tvalidation_0-logloss:0.16801\tvalidation_1-logloss:0.18524\n",
      "[181]\tvalidation_0-logloss:0.16783\tvalidation_1-logloss:0.18523\n",
      "[182]\tvalidation_0-logloss:0.16711\tvalidation_1-logloss:0.18513\n",
      "AUC :  0.7995440729483283\n",
      "Log_loss:  1.8992931968295625\n",
      "Precision :  0.16666666666666666\n",
      "Recall :  0.07142857142857142\n",
      "f1_score :  0.1\n"
     ]
    }
   ],
   "source": [
    "# same model as above, but eval_metric='logloss'\n",
    "\n",
    "gbm = xgb.XGBClassifier( \n",
    "                       n_estimators=30000, #arbitrary large number\n",
    "                       max_depth=3,\n",
    "                       objective=\"binary:logistic\",  # Other options: https://xgboost.readthedocs.io/en/latest/parameter.html#learning-task-parameters\n",
    "                       learning_rate=.1, \n",
    "                       subsample=1,\n",
    "                       min_child_weight=1,\n",
    "                       colsample_bytree=.8\n",
    "                      )\n",
    "\n",
    "eval_set=[(X_tr_rs,y_tr_rs),(X_test,y_test)] #tracking train/validation error as we go\n",
    "fit_model = gbm.fit( \n",
    "                    X_tr_rs, y_tr_rs, \n",
    "                    eval_set=eval_set,\n",
    "                    eval_metric='logloss',\n",
    "                    early_stopping_rounds=20,\n",
    "                    #verbose=True      #gives output log as below - deprecated\n",
    "                   )\n",
    "\n",
    "print('AUC : ', roc_auc_score(y_test, gbm.predict_proba(X_test)[:,1]))\n",
    "print('Log_loss: ', log_loss(y_test, gbm.predict(X_test)))\n",
    "print('Precision : ', precision_score(y_test, gbm.predict(X_test)))\n",
    "print('Recall : ', recall_score(y_test, gbm.predict(X_test)))\n",
    "print('f1_score : ', f1_score(y_test, gbm.predict(X_test)))"
   ]
  },
  {
   "cell_type": "code",
   "execution_count": 52,
   "id": "reduced-compound",
   "metadata": {},
   "outputs": [
    {
     "name": "stdout",
     "output_type": "stream",
     "text": [
      "[0]\tvalidation_0-auc:0.85542\tvalidation_1-auc:0.76355\n",
      "[1]\tvalidation_0-auc:0.86730\tvalidation_1-auc:0.75580\n",
      "[2]\tvalidation_0-auc:0.86200\tvalidation_1-auc:0.75147\n",
      "[3]\tvalidation_0-auc:0.87587\tvalidation_1-auc:0.76887\n",
      "[4]\tvalidation_0-auc:0.87516\tvalidation_1-auc:0.77150\n",
      "[5]\tvalidation_0-auc:0.87501\tvalidation_1-auc:0.77157\n",
      "[6]\tvalidation_0-auc:0.87654\tvalidation_1-auc:0.77024\n",
      "[7]\tvalidation_0-auc:0.88039\tvalidation_1-auc:0.77359\n",
      "[8]\tvalidation_0-auc:0.88234\tvalidation_1-auc:0.77463\n",
      "[9]\tvalidation_0-auc:0.88279\tvalidation_1-auc:0.77375\n",
      "[10]\tvalidation_0-auc:0.88596\tvalidation_1-auc:0.77712\n",
      "[11]\tvalidation_0-auc:0.88645\tvalidation_1-auc:0.77991\n",
      "[12]\tvalidation_0-auc:0.88720\tvalidation_1-auc:0.78257\n",
      "[13]\tvalidation_0-auc:0.88800\tvalidation_1-auc:0.78685\n",
      "[14]\tvalidation_0-auc:0.88850\tvalidation_1-auc:0.78991\n",
      "[15]\tvalidation_0-auc:0.88887\tvalidation_1-auc:0.79089\n",
      "[16]\tvalidation_0-auc:0.89056\tvalidation_1-auc:0.79357\n",
      "[17]\tvalidation_0-auc:0.89175\tvalidation_1-auc:0.79497\n",
      "[18]\tvalidation_0-auc:0.89401\tvalidation_1-auc:0.79322\n",
      "[19]\tvalidation_0-auc:0.89464\tvalidation_1-auc:0.79572\n",
      "[20]\tvalidation_0-auc:0.89529\tvalidation_1-auc:0.79706\n",
      "[21]\tvalidation_0-auc:0.89567\tvalidation_1-auc:0.79815\n",
      "[22]\tvalidation_0-auc:0.89668\tvalidation_1-auc:0.79915\n",
      "[23]\tvalidation_0-auc:0.89757\tvalidation_1-auc:0.79818\n",
      "[24]\tvalidation_0-auc:0.90000\tvalidation_1-auc:0.79635\n",
      "[25]\tvalidation_0-auc:0.90077\tvalidation_1-auc:0.79654\n",
      "[26]\tvalidation_0-auc:0.90078\tvalidation_1-auc:0.79619\n",
      "[27]\tvalidation_0-auc:0.90169\tvalidation_1-auc:0.79606\n",
      "[28]\tvalidation_0-auc:0.90188\tvalidation_1-auc:0.79721\n",
      "[29]\tvalidation_0-auc:0.90266\tvalidation_1-auc:0.79719\n",
      "[30]\tvalidation_0-auc:0.90461\tvalidation_1-auc:0.79520\n",
      "[31]\tvalidation_0-auc:0.90501\tvalidation_1-auc:0.79804\n",
      "[32]\tvalidation_0-auc:0.90613\tvalidation_1-auc:0.79902\n",
      "[33]\tvalidation_0-auc:0.90673\tvalidation_1-auc:0.79885\n",
      "[34]\tvalidation_0-auc:0.90803\tvalidation_1-auc:0.79842\n",
      "[35]\tvalidation_0-auc:0.90980\tvalidation_1-auc:0.79920\n",
      "[36]\tvalidation_0-auc:0.90969\tvalidation_1-auc:0.79958\n",
      "[37]\tvalidation_0-auc:0.91015\tvalidation_1-auc:0.79946\n",
      "[38]\tvalidation_0-auc:0.91124\tvalidation_1-auc:0.80094\n",
      "[39]\tvalidation_0-auc:0.91147\tvalidation_1-auc:0.80106\n",
      "[40]\tvalidation_0-auc:0.91238\tvalidation_1-auc:0.80076\n",
      "[41]\tvalidation_0-auc:0.91339\tvalidation_1-auc:0.80063\n",
      "[42]\tvalidation_0-auc:0.91438\tvalidation_1-auc:0.80028\n",
      "[43]\tvalidation_0-auc:0.91446\tvalidation_1-auc:0.80117\n",
      "[44]\tvalidation_0-auc:0.91505\tvalidation_1-auc:0.80165\n",
      "[45]\tvalidation_0-auc:0.91737\tvalidation_1-auc:0.80400\n",
      "[46]\tvalidation_0-auc:0.91800\tvalidation_1-auc:0.80342\n",
      "[47]\tvalidation_0-auc:0.91822\tvalidation_1-auc:0.80334\n",
      "[48]\tvalidation_0-auc:0.91861\tvalidation_1-auc:0.80329\n",
      "[49]\tvalidation_0-auc:0.91921\tvalidation_1-auc:0.80355\n",
      "[50]\tvalidation_0-auc:0.91981\tvalidation_1-auc:0.80309\n",
      "[51]\tvalidation_0-auc:0.92156\tvalidation_1-auc:0.80418\n",
      "[52]\tvalidation_0-auc:0.92190\tvalidation_1-auc:0.80413\n",
      "[53]\tvalidation_0-auc:0.92311\tvalidation_1-auc:0.80403\n",
      "[54]\tvalidation_0-auc:0.92366\tvalidation_1-auc:0.80274\n",
      "[55]\tvalidation_0-auc:0.92433\tvalidation_1-auc:0.80175\n",
      "[56]\tvalidation_0-auc:0.92513\tvalidation_1-auc:0.80162\n",
      "[57]\tvalidation_0-auc:0.92556\tvalidation_1-auc:0.80180\n",
      "[58]\tvalidation_0-auc:0.92612\tvalidation_1-auc:0.80192\n",
      "[59]\tvalidation_0-auc:0.92757\tvalidation_1-auc:0.80081\n",
      "[60]\tvalidation_0-auc:0.92810\tvalidation_1-auc:0.80018\n",
      "[61]\tvalidation_0-auc:0.92895\tvalidation_1-auc:0.80086\n",
      "[62]\tvalidation_0-auc:0.92960\tvalidation_1-auc:0.80030\n",
      "[63]\tvalidation_0-auc:0.92997\tvalidation_1-auc:0.80038\n",
      "[64]\tvalidation_0-auc:0.93014\tvalidation_1-auc:0.80041\n",
      "[65]\tvalidation_0-auc:0.93185\tvalidation_1-auc:0.80036\n",
      "[66]\tvalidation_0-auc:0.93220\tvalidation_1-auc:0.80030\n",
      "[67]\tvalidation_0-auc:0.93232\tvalidation_1-auc:0.80020\n",
      "[68]\tvalidation_0-auc:0.93313\tvalidation_1-auc:0.80043\n",
      "[69]\tvalidation_0-auc:0.93377\tvalidation_1-auc:0.80068\n",
      "[70]\tvalidation_0-auc:0.93369\tvalidation_1-auc:0.80063\n"
     ]
    },
    {
     "data": {
      "text/plain": [
       "XGBClassifier(base_score=0.5, booster='gbtree', colsample_bylevel=1,\n",
       "              colsample_bynode=1, colsample_bytree=0.8, gamma=0, gpu_id=-1,\n",
       "              importance_type='gain', interaction_constraints='',\n",
       "              learning_rate=0.1, max_delta_step=0, max_depth=3,\n",
       "              min_child_weight=1, missing=nan, monotone_constraints='()',\n",
       "              n_estimators=30000, n_jobs=8, num_parallel_tree=1, random_state=0,\n",
       "              reg_alpha=0, reg_lambda=1, scale_pos_weight=3, subsample=1,\n",
       "              tree_method='exact', use_label_encoder=False,\n",
       "              validate_parameters=1, verbosity=None)"
      ]
     },
     "execution_count": 52,
     "metadata": {},
     "output_type": "execute_result"
    }
   ],
   "source": [
    "gbm = xgb.XGBClassifier( \n",
    "                       n_estimators=30000, #arbitrary large number\n",
    "                       max_depth=3,\n",
    "                       objective=\"binary:logistic\",  # Other options: https://xgboost.readthedocs.io/en/latest/parameter.html#learning-task-parameters\n",
    "                       learning_rate=.1, \n",
    "                       subsample=1,\n",
    "                       min_child_weight=1,\n",
    "                       colsample_bytree=.8,\n",
    "                       scale_pos_weight=3,\n",
    "                       use_label_encoder=False\n",
    "                      )\n",
    "gbm.fit( \n",
    "        X_tr_rs, y_tr_rs, \n",
    "        eval_set=eval_set,\n",
    "        eval_metric='auc',\n",
    "        early_stopping_rounds=20,\n",
    "        #verbose=True     #gives output log as below - deprecated\n",
    "       )\n",
    "\n"
   ]
  },
  {
   "cell_type": "code",
   "execution_count": 53,
   "id": "employed-drinking",
   "metadata": {},
   "outputs": [
    {
     "name": "stdout",
     "output_type": "stream",
     "text": [
      "AUC :  0.8041793313069909\n",
      "Log_loss:  6.120030784845936\n",
      "Precision :  0.125\n",
      "Recall :  0.5238095238095238\n",
      "f1_score :  0.2018348623853211\n"
     ]
    }
   ],
   "source": [
    "print('AUC : ', roc_auc_score(y_test, gbm.predict_proba(X_test)[:,1]))\n",
    "print('Log_loss: ', log_loss(y_test, gbm.predict(X_test)))\n",
    "print('Precision : ', precision_score(y_test, gbm.predict(X_test)))\n",
    "print('Recall : ', recall_score(y_test, gbm.predict(X_test)))\n",
    "print('f1_score : ', f1_score(y_test, gbm.predict(X_test)))"
   ]
  },
  {
   "cell_type": "code",
   "execution_count": 54,
   "id": "outdoor-integrity",
   "metadata": {},
   "outputs": [
    {
     "name": "stdout",
     "output_type": "stream",
     "text": [
      "[0]\tvalidation_0-auc:0.76762\tvalidation_1-auc:0.66422\n",
      "[1]\tvalidation_0-auc:0.80165\tvalidation_1-auc:0.67923\n",
      "[2]\tvalidation_0-auc:0.81733\tvalidation_1-auc:0.68511\n",
      "[3]\tvalidation_0-auc:0.82143\tvalidation_1-auc:0.68703\n",
      "[4]\tvalidation_0-auc:0.87297\tvalidation_1-auc:0.75222\n",
      "[5]\tvalidation_0-auc:0.87741\tvalidation_1-auc:0.76638\n",
      "[6]\tvalidation_0-auc:0.88008\tvalidation_1-auc:0.77924\n",
      "[7]\tvalidation_0-auc:0.88887\tvalidation_1-auc:0.78193\n",
      "[8]\tvalidation_0-auc:0.89389\tvalidation_1-auc:0.79126\n",
      "[9]\tvalidation_0-auc:0.89384\tvalidation_1-auc:0.78779\n",
      "[10]\tvalidation_0-auc:0.89396\tvalidation_1-auc:0.78195\n",
      "[11]\tvalidation_0-auc:0.89601\tvalidation_1-auc:0.78699\n",
      "[12]\tvalidation_0-auc:0.89869\tvalidation_1-auc:0.79599\n",
      "[13]\tvalidation_0-auc:0.89907\tvalidation_1-auc:0.78770\n",
      "[14]\tvalidation_0-auc:0.89949\tvalidation_1-auc:0.78411\n",
      "[15]\tvalidation_0-auc:0.90174\tvalidation_1-auc:0.78649\n",
      "[16]\tvalidation_0-auc:0.90417\tvalidation_1-auc:0.79359\n",
      "[17]\tvalidation_0-auc:0.90695\tvalidation_1-auc:0.79587\n",
      "[18]\tvalidation_0-auc:0.90905\tvalidation_1-auc:0.79436\n",
      "[19]\tvalidation_0-auc:0.91114\tvalidation_1-auc:0.79644\n",
      "[20]\tvalidation_0-auc:0.91202\tvalidation_1-auc:0.79763\n",
      "[21]\tvalidation_0-auc:0.91341\tvalidation_1-auc:0.79900\n",
      "[22]\tvalidation_0-auc:0.91429\tvalidation_1-auc:0.79859\n",
      "[23]\tvalidation_0-auc:0.91563\tvalidation_1-auc:0.80152\n",
      "[24]\tvalidation_0-auc:0.91832\tvalidation_1-auc:0.79401\n",
      "[25]\tvalidation_0-auc:0.91905\tvalidation_1-auc:0.79670\n",
      "[26]\tvalidation_0-auc:0.91990\tvalidation_1-auc:0.79611\n",
      "[27]\tvalidation_0-auc:0.92038\tvalidation_1-auc:0.79743\n",
      "[28]\tvalidation_0-auc:0.92355\tvalidation_1-auc:0.79709\n",
      "[29]\tvalidation_0-auc:0.92640\tvalidation_1-auc:0.79578\n",
      "[30]\tvalidation_0-auc:0.92756\tvalidation_1-auc:0.79726\n",
      "[31]\tvalidation_0-auc:0.92870\tvalidation_1-auc:0.79777\n",
      "[32]\tvalidation_0-auc:0.93129\tvalidation_1-auc:0.79466\n",
      "[33]\tvalidation_0-auc:0.93217\tvalidation_1-auc:0.79625\n",
      "[34]\tvalidation_0-auc:0.93433\tvalidation_1-auc:0.79505\n",
      "[35]\tvalidation_0-auc:0.93647\tvalidation_1-auc:0.79558\n",
      "[36]\tvalidation_0-auc:0.93692\tvalidation_1-auc:0.79591\n",
      "[37]\tvalidation_0-auc:0.93946\tvalidation_1-auc:0.79604\n",
      "[38]\tvalidation_0-auc:0.94046\tvalidation_1-auc:0.79583\n",
      "[39]\tvalidation_0-auc:0.94080\tvalidation_1-auc:0.79540\n",
      "[40]\tvalidation_0-auc:0.94129\tvalidation_1-auc:0.79649\n",
      "[41]\tvalidation_0-auc:0.94223\tvalidation_1-auc:0.79685\n",
      "[42]\tvalidation_0-auc:0.94302\tvalidation_1-auc:0.79823\n",
      "[43]\tvalidation_0-auc:0.94368\tvalidation_1-auc:0.79800\n",
      "AUC :  0.8015197568389058\n",
      "Log_loss:  2.1455003584909944\n",
      "Precision :  0.047619047619047616\n",
      "Recall :  0.023809523809523808\n",
      "f1_score :  0.031746031746031744\n"
     ]
    }
   ],
   "source": [
    "#  criterion='conf', conf=[0.95,0.95], - warning - { conf, criterion } might not be used\n",
    "\n",
    "gbm = xgb.XGBClassifier( \n",
    "                       n_estimators=30000, #arbitrary large number\n",
    "                       max_delta_step = 1,\n",
    "                       max_depth=3,\n",
    "                       objective=\"binary:logistic\",  # Other options: https://xgboost.readthedocs.io/en/latest/parameter.html#learning-task-parameters\n",
    "                       learning_rate=.2, \n",
    "                       subsample=0.8,\n",
    "                       min_child_weight=1,\n",
    "                       colsample_bytree=.8,\n",
    "                       use_label_encoder=False\n",
    "                      )\n",
    "gbm.fit( \n",
    "        X_tr_rs, y_tr_rs, \n",
    "        eval_set=eval_set,\n",
    "        eval_metric='auc',\n",
    "        early_stopping_rounds=20\n",
    "        #verbose=True #gives output log as below\n",
    "       )\n",
    "\n",
    "print('AUC : ', roc_auc_score(y_test, gbm.predict_proba(X_test)[:,1]))\n",
    "print('Log_loss: ', log_loss(y_test, gbm.predict(X_test)))\n",
    "print('Precision : ', precision_score(y_test, gbm.predict(X_test)))\n",
    "print('Recall : ', recall_score(y_test, gbm.predict(X_test)))\n",
    "print('f1_score : ', f1_score(y_test, gbm.predict(X_test)))\n"
   ]
  },
  {
   "cell_type": "code",
   "execution_count": 55,
   "id": "entertaining-sweet",
   "metadata": {},
   "outputs": [
    {
     "name": "stdout",
     "output_type": "stream",
     "text": [
      "[0]\tvalidation_0-auc:0.80136\tvalidation_1-auc:0.68341\n",
      "[1]\tvalidation_0-auc:0.83341\tvalidation_1-auc:0.70091\n",
      "[2]\tvalidation_0-auc:0.87848\tvalidation_1-auc:0.73694\n",
      "[3]\tvalidation_0-auc:0.90393\tvalidation_1-auc:0.77004\n",
      "[4]\tvalidation_0-auc:0.91202\tvalidation_1-auc:0.77333\n",
      "[5]\tvalidation_0-auc:0.91612\tvalidation_1-auc:0.77292\n",
      "[6]\tvalidation_0-auc:0.91960\tvalidation_1-auc:0.77798\n",
      "[7]\tvalidation_0-auc:0.92540\tvalidation_1-auc:0.78766\n",
      "[8]\tvalidation_0-auc:0.93164\tvalidation_1-auc:0.79433\n",
      "[9]\tvalidation_0-auc:0.93699\tvalidation_1-auc:0.79184\n",
      "[10]\tvalidation_0-auc:0.93964\tvalidation_1-auc:0.79572\n",
      "[11]\tvalidation_0-auc:0.94137\tvalidation_1-auc:0.79799\n",
      "[12]\tvalidation_0-auc:0.94215\tvalidation_1-auc:0.79825\n",
      "[13]\tvalidation_0-auc:0.94648\tvalidation_1-auc:0.79904\n",
      "[14]\tvalidation_0-auc:0.94918\tvalidation_1-auc:0.79967\n",
      "[15]\tvalidation_0-auc:0.94990\tvalidation_1-auc:0.80122\n",
      "[16]\tvalidation_0-auc:0.95098\tvalidation_1-auc:0.80101\n",
      "[17]\tvalidation_0-auc:0.95185\tvalidation_1-auc:0.80223\n",
      "[18]\tvalidation_0-auc:0.95257\tvalidation_1-auc:0.80358\n",
      "[19]\tvalidation_0-auc:0.95367\tvalidation_1-auc:0.80222\n",
      "[20]\tvalidation_0-auc:0.95782\tvalidation_1-auc:0.80510\n",
      "[21]\tvalidation_0-auc:0.95941\tvalidation_1-auc:0.80384\n",
      "[22]\tvalidation_0-auc:0.96480\tvalidation_1-auc:0.80096\n",
      "[23]\tvalidation_0-auc:0.96735\tvalidation_1-auc:0.79311\n",
      "[24]\tvalidation_0-auc:0.96788\tvalidation_1-auc:0.79341\n",
      "[25]\tvalidation_0-auc:0.96851\tvalidation_1-auc:0.79493\n",
      "[26]\tvalidation_0-auc:0.96990\tvalidation_1-auc:0.79496\n",
      "[27]\tvalidation_0-auc:0.97104\tvalidation_1-auc:0.79392\n",
      "[28]\tvalidation_0-auc:0.97164\tvalidation_1-auc:0.79179\n",
      "[29]\tvalidation_0-auc:0.97276\tvalidation_1-auc:0.79184\n",
      "[30]\tvalidation_0-auc:0.97390\tvalidation_1-auc:0.79119\n",
      "[31]\tvalidation_0-auc:0.97676\tvalidation_1-auc:0.78948\n",
      "[32]\tvalidation_0-auc:0.97801\tvalidation_1-auc:0.78840\n",
      "[33]\tvalidation_0-auc:0.97873\tvalidation_1-auc:0.78569\n",
      "[34]\tvalidation_0-auc:0.97900\tvalidation_1-auc:0.78614\n",
      "[35]\tvalidation_0-auc:0.98006\tvalidation_1-auc:0.78817\n",
      "[36]\tvalidation_0-auc:0.98028\tvalidation_1-auc:0.78832\n",
      "[37]\tvalidation_0-auc:0.98157\tvalidation_1-auc:0.78754\n",
      "[38]\tvalidation_0-auc:0.98183\tvalidation_1-auc:0.78797\n",
      "[39]\tvalidation_0-auc:0.98234\tvalidation_1-auc:0.78602\n",
      "AUC :  0.8051038500506587\n",
      "Log_loss:  3.411725950442118\n",
      "Precision :  0.1518987341772152\n",
      "Recall :  0.2857142857142857\n",
      "f1_score :  0.19834710743801653\n"
     ]
    }
   ],
   "source": [
    "# learning_rate=.3, max_depth=5, scale_pos_weight=2, min_child_weight=2, subsample=1, gamma=0\n",
    "# max_depth=5, min_child_weight=2  reduced the precision \n",
    "gbm = xgb.XGBClassifier( \n",
    "                       n_estimators=30000, #arbitrary large number\n",
    "                       max_delta_step = 1,\n",
    "                       max_depth=4,\n",
    "                       objective=\"binary:logistic\",  # Other options: https://xgboost.readthedocs.io/en/latest/parameter.html#learning-task-parameters\n",
    "                       learning_rate=.3, \n",
    "                       subsample=1,\n",
    "                       min_child_weight=2,\n",
    "                       colsample_bytree=0.8,\n",
    "                       use_label_encoder=False,\n",
    "                       scale_pos_weight=2,\n",
    "                       gamma=0\n",
    "#                        num_boost_round=100\n",
    "                      )\n",
    "gbm.fit( \n",
    "        X_tr_rs, y_tr_rs, \n",
    "        eval_set=eval_set,\n",
    "        eval_metric='auc',\n",
    "        early_stopping_rounds=20\n",
    "        #verbose=True #gives output log as below\n",
    "       )\n",
    "\n",
    "print('AUC : ', roc_auc_score(y_test, gbm.predict_proba(X_test)[:,1]))\n",
    "print('Log_loss: ', log_loss(y_test, gbm.predict(X_test)))\n",
    "print('Precision : ', precision_score(y_test, gbm.predict(X_test)))\n",
    "print('Recall : ', recall_score(y_test, gbm.predict(X_test)))\n",
    "print('f1_score : ', f1_score(y_test, gbm.predict(X_test)))\n"
   ]
  },
  {
   "cell_type": "markdown",
   "id": "convenient-carrier",
   "metadata": {},
   "source": [
    "## confusion matrix, threshold adjustment for model with optimal AUC - Logistic Regression "
   ]
  },
  {
   "cell_type": "code",
   "execution_count": 59,
   "id": "urban-oliver",
   "metadata": {},
   "outputs": [],
   "source": [
    "def make_confusion_matrix(model, threshold=0.5):\n",
    "    # Predict class 1 if probability of being in class 1 is greater than threshold\n",
    "    # (model.predict(X_test) does this automatically with a threshold of 0.5)\n",
    "    y_predict = (model.predict_proba(X_test)[:, 1] >= threshold)\n",
    "    fraud_confusion = confusion_matrix(y_test, y_predict)\n",
    "    plt.figure(dpi=80)\n",
    "    sns.heatmap(fraud_confusion, cmap=plt.cm.Blues, annot=True, square=True, fmt='d',\n",
    "           xticklabels=['no_stroke', 'stroke'],\n",
    "           yticklabels=['no_stroke', 'stroke']);\n",
    "    plt.xlabel('prediction')\n",
    "    plt.ylabel('actual')"
   ]
  },
  {
   "cell_type": "code",
   "execution_count": 60,
   "id": "ambient-norwegian",
   "metadata": {},
   "outputs": [
    {
     "data": {
      "text/plain": [
       "LogisticRegression(C=100, class_weight={0: 1, 1: 6}, solver='liblinear')"
      ]
     },
     "execution_count": 60,
     "metadata": {},
     "output_type": "execute_result"
    }
   ],
   "source": [
    "lr_6x = LogisticRegression(C=100, class_weight={1 : 6, 0 : 1}, solver='liblinear') \n",
    "lr_6x.fit(X_train, y_train)"
   ]
  },
  {
   "cell_type": "code",
   "execution_count": 61,
   "id": "historical-boundary",
   "metadata": {},
   "outputs": [
    {
     "data": {
      "image/png": "[encoded data removed]",
      "text/plain": [
       "<Figure size 480x320 with 2 Axes>"
      ]
     },
     "metadata": {
      "needs_background": "light"
     },
     "output_type": "display_data"
    }
   ],
   "source": [
    "make_confusion_matrix(lr_6x)"
   ]
  },
  {
   "cell_type": "code",
   "execution_count": 62,
   "id": "informational-emperor",
   "metadata": {},
   "outputs": [
    {
     "data": {
      "application/vnd.jupyter.widget-view+json": {
       "model_id": "d0921a7c0e164f6598bd4d4f517c1115",
       "version_major": 2,
       "version_minor": 0
      },
      "text/plain": [
       "interactive(children=(FloatSlider(value=0.5, description='threshold', max=1.0, step=0.02), Output()), _dom_cla…"
      ]
     },
     "metadata": {},
     "output_type": "display_data"
    }
   ],
   "source": [
    "# Let's see how our confusion matrix changes with changes to the cutoff! \n",
    "\n",
    "from ipywidgets import interactive, FloatSlider\n",
    "\n",
    "interactive(lambda threshold: make_confusion_matrix(lr_6x, threshold), threshold=(0.0,1.0,0.02))"
   ]
  },
  {
   "cell_type": "code",
   "execution_count": 63,
   "id": "prompt-director",
   "metadata": {},
   "outputs": [
    {
     "name": "stdout",
     "output_type": "stream",
     "text": [
      "Default threshold:\n",
      "Precision: 0.1591, Recall: 0.3333\n"
     ]
    }
   ],
   "source": [
    "# using the default threshold of 0.5, which is what vanilla predict does\n",
    "y_predict = lr_6x.predict(X_test)\n",
    "print(\"Default threshold:\")\n",
    "print(\"Precision: {:6.4f}, Recall: {:6.4f}\".format(precision_score(y_test, y_predict), recall_score(y_test, y_predict)))\n"
   ]
  },
  {
   "cell_type": "code",
   "execution_count": 64,
   "id": "documented-challenge",
   "metadata": {},
   "outputs": [
    {
     "name": "stdout",
     "output_type": "stream",
     "text": [
      "Threshold of 0.1:\n",
      "Precision: 0.0822,   Recall: 0.8571\n"
     ]
    }
   ],
   "source": [
    "# using the new threshold of 0.1\n",
    "y_predict = (lr_6x.predict_proba(X_test)[:,1] > 0.1)\n",
    "print(\"Threshold of 0.1:\")\n",
    "print(\"Precision: {:6.4f},   Recall: {:6.4f}\".format(precision_score(y_test, y_predict), \n",
    "                                                     recall_score(y_test, y_predict)))"
   ]
  },
  {
   "cell_type": "code",
   "execution_count": 65,
   "id": "ordinary-wheel",
   "metadata": {},
   "outputs": [
    {
     "name": "stdout",
     "output_type": "stream",
     "text": [
      "Threshold of 0.06:\n",
      "Precision: 0.0712,   Recall: 0.9286\n"
     ]
    }
   ],
   "source": [
    "# using the new threshold of 0.06 - Use this threshold as final\n",
    "\n",
    "y_predict = (lr_6x.predict_proba(X_test)[:,1] > 0.06)\n",
    "print(\"Threshold of 0.06:\")\n",
    "print(\"Precision: {:6.4f},   Recall: {:6.4f}\".format(precision_score(y_test, y_predict), \n",
    "                                                     recall_score(y_test, y_predict)))"
   ]
  },
  {
   "cell_type": "code",
   "execution_count": 66,
   "id": "contained-disney",
   "metadata": {},
   "outputs": [
    {
     "data": {
      "image/png": "[encoded data removed]",
      "text/plain": [
       "<Figure size 480x320 with 1 Axes>"
      ]
     },
     "metadata": {
      "needs_background": "light"
     },
     "output_type": "display_data"
    }
   ],
   "source": [
    "# We can also use the probabilities to make a curve showing us how recall \n",
    "# and thresholds trade off \n",
    "\n",
    "precision_curve, recall_curve, threshold_curve = precision_recall_curve(y_test, lr_6x.predict_proba(X_test)[:,1] )\n",
    "\n",
    "plt.figure(dpi=80)\n",
    "plt.plot(threshold_curve, precision_curve[1:],label='precision')\n",
    "plt.plot(threshold_curve, recall_curve[1:], label='recall')\n",
    "plt.legend(loc='lower left')\n",
    "plt.xlabel('Threshold (above this probability, label as stroke)');\n",
    "plt.title('Precision and Recall Curves');"
   ]
  },
  {
   "cell_type": "code",
   "execution_count": 67,
   "id": "standard-quick",
   "metadata": {},
   "outputs": [
    {
     "data": {
      "image/png": "[encoded data removed]",
      "text/plain": [
       "<Figure size 480x320 with 1 Axes>"
      ]
     },
     "metadata": {
      "needs_background": "light"
     },
     "output_type": "display_data"
    }
   ],
   "source": [
    "plt.figure(dpi=80)\n",
    "plt.plot(recall_curve[1:], precision_curve[1:],label='precision')\n",
    "plt.xlabel(\"Recall\")\n",
    "plt.ylabel(\"Precision\")\n",
    "plt.title(\"Precision-Recall Curve\");"
   ]
  },
  {
   "cell_type": "code",
   "execution_count": 68,
   "id": "modern-production",
   "metadata": {},
   "outputs": [],
   "source": [
    "# Precision = TP / (TP + FP)\n",
    "# Recall = TP/P = True positive rate\n",
    "# false positive rate = FP / true negatives = FP / (FP + TN) \n",
    "\n",
    "from sklearn.metrics import roc_auc_score, roc_curve\n",
    "\n",
    "fpr, tpr, thresholds = roc_curve(y_test, lr_6x.predict_proba(X_test)[:,1])"
   ]
  },
  {
   "cell_type": "code",
   "execution_count": 69,
   "id": "exact-genius",
   "metadata": {},
   "outputs": [
    {
     "name": "stdout",
     "output_type": "stream",
     "text": [
      "ROC AUC score =  0.8045086119554204\n"
     ]
    },
    {
     "data": {
      "image/png": "[encoded data removed]",
      "text/plain": [
       "<Figure size 432x288 with 1 Axes>"
      ]
     },
     "metadata": {
      "needs_background": "light"
     },
     "output_type": "display_data"
    }
   ],
   "source": [
    "plt.plot(fpr, tpr,lw=2)\n",
    "plt.plot([0,1],[0,1],c='violet',ls='--')\n",
    "plt.xlim([-0.05,1.05])\n",
    "plt.ylim([-0.05,1.05])\n",
    "\n",
    "\n",
    "plt.xlabel('False positive rate')\n",
    "plt.ylabel('True positive rate')\n",
    "plt.title('ROC curve for stroke prediction');\n",
    "print(\"ROC AUC score = \", roc_auc_score(y_test, lr_6x.predict_proba(X_test)[:,1]))"
   ]
  },
  {
   "cell_type": "markdown",
   "id": "existing-witness",
   "metadata": {},
   "source": [
    "## confusion matrix, threshold adjustment for model with best Logloss - Logistic Regression"
   ]
  },
  {
   "cell_type": "code",
   "execution_count": 18,
   "id": "comparative-universe",
   "metadata": {},
   "outputs": [
    {
     "data": {
      "text/plain": [
       "LogisticRegression(C=100, class_weight={0: 1, 1: 4}, solver='liblinear')"
      ]
     },
     "execution_count": 18,
     "metadata": {},
     "output_type": "execute_result"
    }
   ],
   "source": [
    "lr_4x = LogisticRegression(C=100, class_weight={1 : 4, 0 : 1}, solver='liblinear') \n",
    "lr_4x.fit(X_train, y_train)"
   ]
  },
  {
   "cell_type": "code",
   "execution_count": 19,
   "id": "included-moses",
   "metadata": {},
   "outputs": [
    {
     "name": "stdout",
     "output_type": "stream",
     "text": [
      "Default threshold:\n",
      "Precision: 0.1628, Recall: 0.1667\n"
     ]
    }
   ],
   "source": [
    "y_predict = lr_4x.predict(X_test)\n",
    "print(\"Default threshold:\")\n",
    "print(\"Precision: {:6.4f}, Recall: {:6.4f}\".format(precision_score(y_test, y_predict), recall_score(y_test, y_predict)))\n"
   ]
  },
  {
   "cell_type": "markdown",
   "id": "quantitative-entrepreneur",
   "metadata": {},
   "source": [
    "## confusion matrix, threshold adjustment for model with optimal AUC - Random Forest"
   ]
  },
  {
   "cell_type": "code",
   "execution_count": 71,
   "id": "entire-hudson",
   "metadata": {},
   "outputs": [
    {
     "name": "stdout",
     "output_type": "stream",
     "text": [
      "{'max_depth': 8, 'max_features': 'sqrt', 'n_estimators': 200}\n",
      "Best score of neg_log_loss -0.2684587134482855\n",
      "Random Forest Classifier with CV -\n",
      "Precision: 0.13385826771653545\n",
      "Recall: 0.40476190476190477\n",
      "F1: 0.20118343195266275\n",
      "Log_loss: 4.748292025489068\n",
      "ROC AUC: 0.7880699088145896\n"
     ]
    }
   ],
   "source": [
    "rfc = RandomForestClassifier(n_jobs=-1 ,n_estimators=200, oob_score = True, class_weight={0:1,1:5}) \n",
    "\n",
    "param_grid = { \n",
    "    'n_estimators': [100, 200],\n",
    "    'max_depth': [2,4,8],\n",
    "    'max_features': ['auto', 'sqrt', 'log2']   \n",
    "}\n",
    "\n",
    "CV_rfc = GridSearchCV(estimator=rfc, param_grid=param_grid, cv=5, scoring='neg_log_loss')\n",
    "CV_rfc.fit(X_tr_rs, y_tr_rs)\n",
    "print(CV_rfc.best_params_)\n",
    "\n",
    "print('Best score of neg_log_loss', CV_rfc.best_score_)\n",
    "\n",
    "y_pred_rfc = CV_rfc.predict(X_test)\n",
    "\n",
    "print(\"Random Forest Classifier with CV -\")\n",
    "print(f\"Precision: {precision_score(y_test, y_pred_rfc, zero_division=0)}\")\n",
    "print(f\"Recall: {recall_score(y_test, y_pred_rfc, zero_division=0)}\")\n",
    "print(f\"F1: {f1_score(y_test, y_pred_rfc, zero_division=0)}\")\n",
    "print(f\"Log_loss: {log_loss(y_test, y_pred_rfc)}\")\n",
    "print(f\"ROC AUC: {roc_auc_score(y_test, CV_rfc.predict_proba(X_test)[:,1])}\")"
   ]
  },
  {
   "cell_type": "code",
   "execution_count": 72,
   "id": "incredible-litigation",
   "metadata": {},
   "outputs": [
    {
     "data": {
      "image/png": "[encoded data removed]",
      "text/plain": [
       "<Figure size 480x320 with 2 Axes>"
      ]
     },
     "metadata": {
      "needs_background": "light"
     },
     "output_type": "display_data"
    }
   ],
   "source": [
    "make_confusion_matrix(CV_rfc)"
   ]
  },
  {
   "cell_type": "code",
   "execution_count": 73,
   "id": "sweet-mercy",
   "metadata": {},
   "outputs": [
    {
     "data": {
      "application/vnd.jupyter.widget-view+json": {
       "model_id": "45749c5f53af41c9a18b62df9401f8ca",
       "version_major": 2,
       "version_minor": 0
      },
      "text/plain": [
       "interactive(children=(FloatSlider(value=0.5, description='threshold', max=1.0, step=0.02), Output()), _dom_cla…"
      ]
     },
     "metadata": {},
     "output_type": "display_data"
    }
   ],
   "source": [
    "# Let's see how our confusion matrix changes with changes to the cutoff! \n",
    "\n",
    "from ipywidgets import interactive, FloatSlider\n",
    "\n",
    "interactive(lambda threshold: make_confusion_matrix(CV_rfc, threshold), threshold=(0.0,1.0,0.02))"
   ]
  },
  {
   "cell_type": "code",
   "execution_count": 74,
   "id": "shaped-glory",
   "metadata": {},
   "outputs": [
    {
     "name": "stdout",
     "output_type": "stream",
     "text": [
      "Default threshold:\n",
      "Precision: 0.1339,   Recall: 0.4048\n"
     ]
    }
   ],
   "source": [
    "# using the default threshold of 0.5, which is what vanilla predict does\n",
    "y_predict = CV_rfc.predict(X_test)\n",
    "print(\"Default threshold:\")\n",
    "print(\"Precision: {:6.4f},   Recall: {:6.4f}\".format(precision_score(y_test, y_predict), \n",
    "                                                     recall_score(y_test, y_predict)))"
   ]
  },
  {
   "cell_type": "code",
   "execution_count": 75,
   "id": "suffering-smooth",
   "metadata": {},
   "outputs": [
    {
     "name": "stdout",
     "output_type": "stream",
     "text": [
      "Threshold of 0.06:\n",
      "Precision: 0.0675,   Recall: 0.9286\n"
     ]
    }
   ],
   "source": [
    "# using the new threshold of 0.06\n",
    "y_predict = (CV_rfc.predict_proba(X_test)[:,1] > 0.06)\n",
    "print(\"Threshold of 0.06:\")\n",
    "print(\"Precision: {:6.4f},   Recall: {:6.4f}\".format(precision_score(y_test, y_predict), \n",
    "                                                     recall_score(y_test, y_predict)))"
   ]
  },
  {
   "cell_type": "code",
   "execution_count": 76,
   "id": "meaning-shepherd",
   "metadata": {},
   "outputs": [
    {
     "data": {
      "image/png": "[encoded data removed]",
      "text/plain": [
       "<Figure size 480x320 with 1 Axes>"
      ]
     },
     "metadata": {
      "needs_background": "light"
     },
     "output_type": "display_data"
    }
   ],
   "source": [
    "# We can also use the probabilities to make a curve showing us how recall \n",
    "# and thresholds trade off \n",
    "\n",
    "precision_curve, recall_curve, threshold_curve = precision_recall_curve(y_test, CV_rfc.predict_proba(X_test)[:,1] )\n",
    "\n",
    "plt.figure(dpi=80)\n",
    "plt.plot(threshold_curve, precision_curve[1:],label='precision')\n",
    "plt.plot(threshold_curve, recall_curve[1:], label='recall')\n",
    "plt.legend(loc='lower left')\n",
    "plt.xlabel('Threshold (above this probability, label as stroke)');\n",
    "plt.title('Precision and Recall Curves');"
   ]
  },
  {
   "cell_type": "code",
   "execution_count": 77,
   "id": "elementary-drilling",
   "metadata": {},
   "outputs": [
    {
     "data": {
      "image/png": "[encoded data removed]",
      "text/plain": [
       "<Figure size 480x320 with 1 Axes>"
      ]
     },
     "metadata": {
      "needs_background": "light"
     },
     "output_type": "display_data"
    }
   ],
   "source": [
    "plt.figure(dpi=80)\n",
    "plt.plot(recall_curve[1:], precision_curve[1:],label='precision')\n",
    "plt.xlabel(\"Recall\")\n",
    "plt.ylabel(\"Precision\")\n",
    "plt.title(\"Precision-Recall Curve\");"
   ]
  },
  {
   "cell_type": "code",
   "execution_count": 78,
   "id": "differential-december",
   "metadata": {},
   "outputs": [],
   "source": [
    "# Precision = TP / (TP + FP)\n",
    "# Recall = TP/P = True positive rate\n",
    "# false positive rate = FP / true negatives = FP / (FP + TN) \n",
    "\n",
    "from sklearn.metrics import roc_auc_score, roc_curve\n",
    "\n",
    "fpr, tpr, thresholds = roc_curve(y_test, CV_rfc.predict_proba(X_test)[:,1])"
   ]
  },
  {
   "cell_type": "code",
   "execution_count": 79,
   "id": "appointed-saying",
   "metadata": {},
   "outputs": [
    {
     "name": "stdout",
     "output_type": "stream",
     "text": [
      "ROC AUC score =  0.7880699088145896\n"
     ]
    },
    {
     "data": {
      "image/png": "[encoded data removed]",
      "text/plain": [
       "<Figure size 432x288 with 1 Axes>"
      ]
     },
     "metadata": {
      "needs_background": "light"
     },
     "output_type": "display_data"
    }
   ],
   "source": [
    "plt.plot(fpr, tpr,lw=2)\n",
    "plt.plot([0,1],[0,1],c='violet',ls='--')\n",
    "plt.xlim([-0.05,1.05])\n",
    "plt.ylim([-0.05,1.05])\n",
    "\n",
    "\n",
    "plt.xlabel('False positive rate')\n",
    "plt.ylabel('True positive rate')\n",
    "plt.title('ROC curve for stroke prediction');\n",
    "print(\"ROC AUC score = \", roc_auc_score(y_test, CV_rfc.predict_proba(X_test)[:,1]))"
   ]
  },
  {
   "cell_type": "markdown",
   "id": "twelve-extra",
   "metadata": {},
   "source": [
    "## confusion matrix, threshold adjustment for model with best Logloss - Random Forest"
   ]
  },
  {
   "cell_type": "code",
   "execution_count": 80,
   "id": "medieval-handling",
   "metadata": {},
   "outputs": [
    {
     "name": "stdout",
     "output_type": "stream",
     "text": [
      "{'max_depth': 8, 'max_features': 'sqrt', 'n_estimators': 100}\n",
      "Best score of neg_log_loss -0.23026202818770575\n",
      "Random Forest Classifier with CV -\n",
      "Precision: 0.12857142857142856\n",
      "Recall: 0.21428571428571427\n",
      "F1: 0.1607142857142857\n",
      "Log_loss: 3.306205454750353\n",
      "ROC AUC: 0.7792299898682877\n"
     ]
    }
   ],
   "source": [
    "# class_weight={0:1,1:3}, best log_loss score\n",
    "rfc = RandomForestClassifier(n_jobs=-1 ,n_estimators=200, oob_score = True, class_weight={0:1,1:3}) \n",
    "\n",
    "param_grid = { \n",
    "    'n_estimators': [100, 200],\n",
    "    'max_depth': [2,4,8],\n",
    "    'max_features': ['auto', 'sqrt', 'log2']   \n",
    "}\n",
    "\n",
    "CV_rfc = GridSearchCV(estimator=rfc, param_grid=param_grid, cv=5, scoring='neg_log_loss')\n",
    "CV_rfc.fit(X_tr_rs, y_tr_rs)\n",
    "print(CV_rfc.best_params_)\n",
    "\n",
    "print('Best score of neg_log_loss', CV_rfc.best_score_)\n",
    "\n",
    "y_pred_rfc = CV_rfc.predict(X_test)\n",
    "\n",
    "print(\"Random Forest Classifier with CV -\")\n",
    "print(f\"Precision: {precision_score(y_test, y_pred_rfc, zero_division=0)}\")\n",
    "print(f\"Recall: {recall_score(y_test, y_pred_rfc, zero_division=0)}\")\n",
    "print(f\"F1: {f1_score(y_test, y_pred_rfc, zero_division=0)}\")\n",
    "print(f\"Log_loss: {log_loss(y_test, y_pred_rfc)}\")\n",
    "print(f\"ROC AUC: {roc_auc_score(y_test, CV_rfc.predict_proba(X_test)[:,1])}\")"
   ]
  },
  {
   "cell_type": "markdown",
   "id": "developed-desert",
   "metadata": {},
   "source": [
    "## XGBoost model with optimal AUC "
   ]
  },
  {
   "cell_type": "code",
   "execution_count": 81,
   "id": "voluntary-transformation",
   "metadata": {},
   "outputs": [
    {
     "name": "stdout",
     "output_type": "stream",
     "text": [
      "[0]\tvalidation_0-auc:0.85542\tvalidation_1-auc:0.76355\n",
      "[1]\tvalidation_0-auc:0.86730\tvalidation_1-auc:0.75580\n",
      "[2]\tvalidation_0-auc:0.86200\tvalidation_1-auc:0.75147\n",
      "[3]\tvalidation_0-auc:0.87587\tvalidation_1-auc:0.76887\n",
      "[4]\tvalidation_0-auc:0.87516\tvalidation_1-auc:0.77150\n",
      "[5]\tvalidation_0-auc:0.87501\tvalidation_1-auc:0.77157\n",
      "[6]\tvalidation_0-auc:0.87654\tvalidation_1-auc:0.77024\n",
      "[7]\tvalidation_0-auc:0.88039\tvalidation_1-auc:0.77359\n",
      "[8]\tvalidation_0-auc:0.88234\tvalidation_1-auc:0.77463\n",
      "[9]\tvalidation_0-auc:0.88279\tvalidation_1-auc:0.77375\n",
      "[10]\tvalidation_0-auc:0.88596\tvalidation_1-auc:0.77712\n",
      "[11]\tvalidation_0-auc:0.88645\tvalidation_1-auc:0.77991\n",
      "[12]\tvalidation_0-auc:0.88720\tvalidation_1-auc:0.78257\n",
      "[13]\tvalidation_0-auc:0.88800\tvalidation_1-auc:0.78685\n",
      "[14]\tvalidation_0-auc:0.88850\tvalidation_1-auc:0.78991\n",
      "[15]\tvalidation_0-auc:0.88887\tvalidation_1-auc:0.79089\n",
      "[16]\tvalidation_0-auc:0.89056\tvalidation_1-auc:0.79357\n",
      "[17]\tvalidation_0-auc:0.89175\tvalidation_1-auc:0.79497\n",
      "[18]\tvalidation_0-auc:0.89401\tvalidation_1-auc:0.79322\n",
      "[19]\tvalidation_0-auc:0.89464\tvalidation_1-auc:0.79572\n",
      "[20]\tvalidation_0-auc:0.89529\tvalidation_1-auc:0.79706\n",
      "[21]\tvalidation_0-auc:0.89567\tvalidation_1-auc:0.79815\n",
      "[22]\tvalidation_0-auc:0.89668\tvalidation_1-auc:0.79915\n",
      "[23]\tvalidation_0-auc:0.89757\tvalidation_1-auc:0.79818\n",
      "[24]\tvalidation_0-auc:0.90000\tvalidation_1-auc:0.79635\n",
      "[25]\tvalidation_0-auc:0.90077\tvalidation_1-auc:0.79654\n",
      "[26]\tvalidation_0-auc:0.90078\tvalidation_1-auc:0.79619\n",
      "[27]\tvalidation_0-auc:0.90169\tvalidation_1-auc:0.79606\n",
      "[28]\tvalidation_0-auc:0.90188\tvalidation_1-auc:0.79721\n",
      "[29]\tvalidation_0-auc:0.90266\tvalidation_1-auc:0.79719\n",
      "[30]\tvalidation_0-auc:0.90461\tvalidation_1-auc:0.79520\n",
      "[31]\tvalidation_0-auc:0.90501\tvalidation_1-auc:0.79804\n",
      "[32]\tvalidation_0-auc:0.90613\tvalidation_1-auc:0.79902\n",
      "[33]\tvalidation_0-auc:0.90673\tvalidation_1-auc:0.79885\n",
      "[34]\tvalidation_0-auc:0.90803\tvalidation_1-auc:0.79842\n",
      "[35]\tvalidation_0-auc:0.90980\tvalidation_1-auc:0.79920\n",
      "[36]\tvalidation_0-auc:0.90969\tvalidation_1-auc:0.79958\n",
      "[37]\tvalidation_0-auc:0.91015\tvalidation_1-auc:0.79946\n",
      "[38]\tvalidation_0-auc:0.91124\tvalidation_1-auc:0.80094\n",
      "[39]\tvalidation_0-auc:0.91147\tvalidation_1-auc:0.80106\n",
      "[40]\tvalidation_0-auc:0.91238\tvalidation_1-auc:0.80076\n",
      "[41]\tvalidation_0-auc:0.91339\tvalidation_1-auc:0.80063\n",
      "[42]\tvalidation_0-auc:0.91438\tvalidation_1-auc:0.80028\n",
      "[43]\tvalidation_0-auc:0.91446\tvalidation_1-auc:0.80117\n",
      "[44]\tvalidation_0-auc:0.91505\tvalidation_1-auc:0.80165\n",
      "[45]\tvalidation_0-auc:0.91737\tvalidation_1-auc:0.80400\n",
      "[46]\tvalidation_0-auc:0.91800\tvalidation_1-auc:0.80342\n",
      "[47]\tvalidation_0-auc:0.91822\tvalidation_1-auc:0.80334\n",
      "[48]\tvalidation_0-auc:0.91861\tvalidation_1-auc:0.80329\n",
      "[49]\tvalidation_0-auc:0.91921\tvalidation_1-auc:0.80355\n",
      "[50]\tvalidation_0-auc:0.91981\tvalidation_1-auc:0.80309\n",
      "[51]\tvalidation_0-auc:0.92156\tvalidation_1-auc:0.80418\n",
      "[52]\tvalidation_0-auc:0.92190\tvalidation_1-auc:0.80413\n",
      "[53]\tvalidation_0-auc:0.92311\tvalidation_1-auc:0.80403\n",
      "[54]\tvalidation_0-auc:0.92366\tvalidation_1-auc:0.80274\n",
      "[55]\tvalidation_0-auc:0.92433\tvalidation_1-auc:0.80175\n",
      "[56]\tvalidation_0-auc:0.92513\tvalidation_1-auc:0.80162\n",
      "[57]\tvalidation_0-auc:0.92556\tvalidation_1-auc:0.80180\n",
      "[58]\tvalidation_0-auc:0.92612\tvalidation_1-auc:0.80192\n",
      "[59]\tvalidation_0-auc:0.92757\tvalidation_1-auc:0.80081\n",
      "[60]\tvalidation_0-auc:0.92810\tvalidation_1-auc:0.80018\n",
      "[61]\tvalidation_0-auc:0.92895\tvalidation_1-auc:0.80086\n",
      "[62]\tvalidation_0-auc:0.92960\tvalidation_1-auc:0.80030\n",
      "[63]\tvalidation_0-auc:0.92997\tvalidation_1-auc:0.80038\n",
      "[64]\tvalidation_0-auc:0.93014\tvalidation_1-auc:0.80041\n",
      "[65]\tvalidation_0-auc:0.93185\tvalidation_1-auc:0.80036\n",
      "[66]\tvalidation_0-auc:0.93220\tvalidation_1-auc:0.80030\n",
      "[67]\tvalidation_0-auc:0.93232\tvalidation_1-auc:0.80020\n",
      "[68]\tvalidation_0-auc:0.93313\tvalidation_1-auc:0.80043\n",
      "[69]\tvalidation_0-auc:0.93377\tvalidation_1-auc:0.80068\n",
      "[70]\tvalidation_0-auc:0.93369\tvalidation_1-auc:0.80063\n",
      "AUC :  0.8041793313069909\n",
      "Log_loss:  6.120030784845936\n",
      "Precision :  0.125\n",
      "Recall :  0.5238095238095238\n",
      "f1_score :  0.2018348623853211\n"
     ]
    }
   ],
   "source": [
    "gbm = xgb.XGBClassifier( \n",
    "                       n_estimators=30000, #arbitrary large number\n",
    "                       max_depth=3,\n",
    "                       objective=\"binary:logistic\",  # Other options: https://xgboost.readthedocs.io/en/latest/parameter.html#learning-task-parameters\n",
    "                       learning_rate=.1, \n",
    "                       subsample=1,\n",
    "                       min_child_weight=1,\n",
    "                       colsample_bytree=.8,\n",
    "                       scale_pos_weight=3,\n",
    "                       use_label_encoder=False\n",
    "                      )\n",
    "gbm.fit( \n",
    "        X_tr_rs, y_tr_rs, \n",
    "        eval_set=eval_set,\n",
    "        eval_metric='auc',\n",
    "        early_stopping_rounds=20,\n",
    "       )\n",
    "\n",
    "print('AUC : ', roc_auc_score(y_test, gbm.predict_proba(X_test)[:,1]))\n",
    "print('Log_loss: ', log_loss(y_test, gbm.predict(X_test)))\n",
    "print('Precision : ', precision_score(y_test, gbm.predict(X_test)))\n",
    "print('Recall : ', recall_score(y_test, gbm.predict(X_test)))\n",
    "print('f1_score : ', f1_score(y_test, gbm.predict(X_test)))\n",
    "\n"
   ]
  },
  {
   "cell_type": "markdown",
   "id": "appropriate-suggestion",
   "metadata": {},
   "source": [
    "## XGBoost model with minimum logloss"
   ]
  },
  {
   "cell_type": "code",
   "execution_count": 82,
   "id": "surface-indianapolis",
   "metadata": {},
   "outputs": [
    {
     "name": "stdout",
     "output_type": "stream",
     "text": [
      "[0]\tvalidation_0-auc:0.80136\tvalidation_1-auc:0.68341\n",
      "[1]\tvalidation_0-auc:0.83341\tvalidation_1-auc:0.70091\n",
      "[2]\tvalidation_0-auc:0.87848\tvalidation_1-auc:0.73694\n",
      "[3]\tvalidation_0-auc:0.90393\tvalidation_1-auc:0.77004\n",
      "[4]\tvalidation_0-auc:0.91202\tvalidation_1-auc:0.77333\n",
      "[5]\tvalidation_0-auc:0.91612\tvalidation_1-auc:0.77292\n",
      "[6]\tvalidation_0-auc:0.91960\tvalidation_1-auc:0.77798\n",
      "[7]\tvalidation_0-auc:0.92540\tvalidation_1-auc:0.78766\n",
      "[8]\tvalidation_0-auc:0.93164\tvalidation_1-auc:0.79433\n",
      "[9]\tvalidation_0-auc:0.93699\tvalidation_1-auc:0.79184\n",
      "[10]\tvalidation_0-auc:0.93964\tvalidation_1-auc:0.79572\n",
      "[11]\tvalidation_0-auc:0.94137\tvalidation_1-auc:0.79799\n",
      "[12]\tvalidation_0-auc:0.94215\tvalidation_1-auc:0.79825\n",
      "[13]\tvalidation_0-auc:0.94648\tvalidation_1-auc:0.79904\n",
      "[14]\tvalidation_0-auc:0.94918\tvalidation_1-auc:0.79967\n",
      "[15]\tvalidation_0-auc:0.94990\tvalidation_1-auc:0.80122\n",
      "[16]\tvalidation_0-auc:0.95098\tvalidation_1-auc:0.80101\n",
      "[17]\tvalidation_0-auc:0.95185\tvalidation_1-auc:0.80223\n",
      "[18]\tvalidation_0-auc:0.95257\tvalidation_1-auc:0.80358\n",
      "[19]\tvalidation_0-auc:0.95367\tvalidation_1-auc:0.80222\n",
      "[20]\tvalidation_0-auc:0.95782\tvalidation_1-auc:0.80510\n",
      "[21]\tvalidation_0-auc:0.95941\tvalidation_1-auc:0.80384\n",
      "[22]\tvalidation_0-auc:0.96480\tvalidation_1-auc:0.80096\n",
      "[23]\tvalidation_0-auc:0.96735\tvalidation_1-auc:0.79311\n",
      "[24]\tvalidation_0-auc:0.96788\tvalidation_1-auc:0.79341\n",
      "[25]\tvalidation_0-auc:0.96851\tvalidation_1-auc:0.79493\n",
      "[26]\tvalidation_0-auc:0.96990\tvalidation_1-auc:0.79496\n",
      "[27]\tvalidation_0-auc:0.97104\tvalidation_1-auc:0.79392\n",
      "[28]\tvalidation_0-auc:0.97164\tvalidation_1-auc:0.79179\n",
      "[29]\tvalidation_0-auc:0.97276\tvalidation_1-auc:0.79184\n",
      "[30]\tvalidation_0-auc:0.97390\tvalidation_1-auc:0.79119\n",
      "[31]\tvalidation_0-auc:0.97676\tvalidation_1-auc:0.78948\n",
      "[32]\tvalidation_0-auc:0.97801\tvalidation_1-auc:0.78840\n",
      "[33]\tvalidation_0-auc:0.97873\tvalidation_1-auc:0.78569\n",
      "[34]\tvalidation_0-auc:0.97900\tvalidation_1-auc:0.78614\n",
      "[35]\tvalidation_0-auc:0.98006\tvalidation_1-auc:0.78817\n",
      "[36]\tvalidation_0-auc:0.98028\tvalidation_1-auc:0.78832\n",
      "[37]\tvalidation_0-auc:0.98157\tvalidation_1-auc:0.78754\n",
      "[38]\tvalidation_0-auc:0.98183\tvalidation_1-auc:0.78797\n",
      "[39]\tvalidation_0-auc:0.98234\tvalidation_1-auc:0.78602\n",
      "[40]\tvalidation_0-auc:0.98345\tvalidation_1-auc:0.78787\n",
      "AUC :  0.8051038500506587\n",
      "Log_loss:  3.411725950442118\n",
      "Precision :  0.1518987341772152\n",
      "Recall :  0.2857142857142857\n",
      "f1_score :  0.19834710743801653\n"
     ]
    }
   ],
   "source": [
    "gbm = xgb.XGBClassifier( \n",
    "                       n_estimators=30000, #arbitrary large number\n",
    "                       max_delta_step = 1,\n",
    "                       max_depth=4,\n",
    "                       objective=\"binary:logistic\",  # Other options: https://xgboost.readthedocs.io/en/latest/parameter.html#learning-task-parameters\n",
    "                       learning_rate=.3, \n",
    "                       subsample=1,\n",
    "                       min_child_weight=2,\n",
    "                       colsample_bytree=0.8,\n",
    "                       use_label_encoder=False,\n",
    "                       scale_pos_weight=2,\n",
    "                       gamma=0\n",
    "#                        num_boost_round=100\n",
    "                      )\n",
    "gbm.fit( \n",
    "        X_tr_rs, y_tr_rs, \n",
    "        eval_set=eval_set,\n",
    "        eval_metric='auc',\n",
    "        early_stopping_rounds=20\n",
    "        #verbose=True #gives output log as below\n",
    "       )\n",
    "\n",
    "print('AUC : ', roc_auc_score(y_test, gbm.predict_proba(X_test)[:,1]))\n",
    "print('Log_loss: ', log_loss(y_test, gbm.predict(X_test)))\n",
    "print('Precision : ', precision_score(y_test, gbm.predict(X_test)))\n",
    "print('Recall : ', recall_score(y_test, gbm.predict(X_test)))\n",
    "print('f1_score : ', f1_score(y_test, gbm.predict(X_test)))\n",
    "\n"
   ]
  },
  {
   "cell_type": "code",
   "execution_count": null,
   "id": "needed-sampling",
   "metadata": {},
   "outputs": [],
   "source": []
  },
  {
   "cell_type": "code",
   "execution_count": null,
   "id": "controversial-diameter",
   "metadata": {},
   "outputs": [],
   "source": []
  },
  {
   "cell_type": "code",
   "execution_count": null,
   "id": "organized-gardening",
   "metadata": {},
   "outputs": [],
   "source": []
  },
  {
   "cell_type": "code",
   "execution_count": null,
   "id": "arranged-scottish",
   "metadata": {},
   "outputs": [],
   "source": []
  }
 ],
 "metadata": {
  "kernelspec": {
   "display_name": "Python [conda env:metis] *",
   "language": "python",
   "name": "conda-env-metis-py"
  },
  "language_info": {
   "codemirror_mode": {
    "name": "ipython",
    "version": 3
   },
   "file_extension": ".py",
   "mimetype": "text/x-python",
   "name": "python",
   "nbconvert_exporter": "python",
   "pygments_lexer": "ipython3",
   "version": "3.8.8"
  }
 },
 "nbformat": 4,
 "nbformat_minor": 5
}
