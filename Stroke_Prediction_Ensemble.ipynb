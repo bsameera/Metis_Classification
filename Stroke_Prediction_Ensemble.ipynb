{
 "cells": [
  {
   "cell_type": "markdown",
   "id": "purple-accommodation",
   "metadata": {},
   "source": [
    "## ensemble"
   ]
  },
  {
   "cell_type": "code",
   "execution_count": 1,
   "id": "cooperative-empty",
   "metadata": {},
   "outputs": [],
   "source": [
    "# Ensemble - best between linear regression, random forest and XGBoost models"
   ]
  },
  {
   "cell_type": "code",
   "execution_count": 2,
   "id": "weird-simpson",
   "metadata": {},
   "outputs": [],
   "source": [
    "import pandas as pd\n",
    "import numpy as np\n",
    "import pickle\n",
    "\n",
    "# visualization imports\n",
    "import matplotlib.pyplot as plt\n",
    "import seaborn as sns\n",
    "plt.style.use('fivethirtyeight')\n",
    "\n",
    "%matplotlib inline\n",
    "\n",
    "# modeling imports\n",
    "\n",
    "from sklearn.model_selection import train_test_split\n",
    "from sklearn.linear_model import LogisticRegression\n",
    "from sklearn.neighbors import KNeighborsClassifier\n",
    "from sklearn.metrics import precision_score, recall_score, precision_recall_curve, accuracy_score, roc_auc_score\n",
    "from sklearn.metrics import f1_score, roc_curve, log_loss\n",
    "from sklearn.metrics import confusion_matrix\n",
    "from sklearn.preprocessing import StandardScaler\n",
    "import xgboost as xgb\n",
    "from sklearn.tree import DecisionTreeClassifier\n",
    "from sklearn.ensemble import RandomForestClassifier\n",
    "from sklearn.model_selection import GridSearchCV\n",
    "\n",
    "from sklearn import ensemble\n",
    "\n",
    "from sklearn.ensemble import VotingClassifier\n",
    "\n",
    "from mlxtend.classifier import StackingClassifier # <-- note: this is not from sklearn!\n",
    "\n",
    "sns.set_style(\"whitegrid\")"
   ]
  },
  {
   "cell_type": "code",
   "execution_count": 3,
   "id": "elementary-hormone",
   "metadata": {},
   "outputs": [],
   "source": [
    "df = pd.read_csv(\"healthcare-dataset-stroke-data.csv\")"
   ]
  },
  {
   "cell_type": "code",
   "execution_count": 4,
   "id": "retired-retail",
   "metadata": {},
   "outputs": [],
   "source": [
    "df.dropna(axis=0, inplace=True)"
   ]
  },
  {
   "cell_type": "code",
   "execution_count": 5,
   "id": "broken-marking",
   "metadata": {},
   "outputs": [
    {
     "data": {
      "text/plain": [
       "Female    2897\n",
       "Male      2011\n",
       "Name: gender, dtype: int64"
      ]
     },
     "execution_count": 5,
     "metadata": {},
     "output_type": "execute_result"
    }
   ],
   "source": [
    "# drop the row with \"other\" in gender as it is only one row\n",
    "df = df[df.gender != 'Other']\n",
    "df.gender.value_counts()"
   ]
  },
  {
   "cell_type": "code",
   "execution_count": 6,
   "id": "illegal-rating",
   "metadata": {},
   "outputs": [],
   "source": [
    "df.reset_index(drop=True, inplace=True)"
   ]
  },
  {
   "cell_type": "code",
   "execution_count": 7,
   "id": "likely-convertible",
   "metadata": {},
   "outputs": [
    {
     "name": "stdout",
     "output_type": "stream",
     "text": [
      "<class 'pandas.core.frame.DataFrame'>\n",
      "RangeIndex: 4908 entries, 0 to 4907\n",
      "Data columns (total 17 columns):\n",
      " #   Column                          Non-Null Count  Dtype  \n",
      "---  ------                          --------------  -----  \n",
      " 0   id                              4908 non-null   int64  \n",
      " 1   age                             4908 non-null   float64\n",
      " 2   hypertension                    4908 non-null   int64  \n",
      " 3   heart_disease                   4908 non-null   int64  \n",
      " 4   avg_glucose_level               4908 non-null   float64\n",
      " 5   bmi                             4908 non-null   float64\n",
      " 6   stroke                          4908 non-null   int64  \n",
      " 7   gender_Male                     4908 non-null   uint8  \n",
      " 8   ever_married_Yes                4908 non-null   uint8  \n",
      " 9   work_type_Never_worked          4908 non-null   uint8  \n",
      " 10  work_type_Private               4908 non-null   uint8  \n",
      " 11  work_type_Self-employed         4908 non-null   uint8  \n",
      " 12  work_type_children              4908 non-null   uint8  \n",
      " 13  Residence_type_Urban            4908 non-null   uint8  \n",
      " 14  smoking_status_formerly smoked  4908 non-null   uint8  \n",
      " 15  smoking_status_never smoked     4908 non-null   uint8  \n",
      " 16  smoking_status_smokes           4908 non-null   uint8  \n",
      "dtypes: float64(3), int64(4), uint8(10)\n",
      "memory usage: 316.5 KB\n"
     ]
    }
   ],
   "source": [
    "df = pd.get_dummies(df, columns=['gender', 'ever_married', 'work_type', 'Residence_type', 'smoking_status'], drop_first=True)\n",
    "df.info()"
   ]
  },
  {
   "cell_type": "code",
   "execution_count": 8,
   "id": "experienced-ethics",
   "metadata": {},
   "outputs": [],
   "source": [
    "X = df.drop(columns=['stroke'], axis=1)\n",
    "y = df.stroke\n",
    "\n",
    "# stratify=y\n",
    "X_train, X_test, y_train, y_test = train_test_split(X, y, test_size=.2, random_state=42, stratify=y)"
   ]
  },
  {
   "cell_type": "code",
   "execution_count": 9,
   "id": "american-consultancy",
   "metadata": {},
   "outputs": [],
   "source": [
    "import imblearn.over_sampling\n",
    "\n",
    "n_pos = np.sum(y_train == 1)\n",
    "n_neg = np.sum(y_train == 0)\n",
    "\n",
    "# create 4x as many positive samples\n",
    "ratio = {1 : n_pos * 4, 0 : n_neg}\n",
    "\n",
    "# randomly oversample positives\n",
    "ROS =imblearn.over_sampling.RandomOverSampler(sampling_strategy = ratio,random_state=42)\n",
    "X_tr_rs, y_tr_rs = ROS.fit_resample(X_train, y_train)"
   ]
  },
  {
   "cell_type": "code",
   "execution_count": 10,
   "id": "generous-canvas",
   "metadata": {},
   "outputs": [],
   "source": [
    "lr_model = LogisticRegression(class_weight='balanced', solver='liblinear')\n",
    "rf_model_logloss = RandomForestClassifier(n_jobs=-1 ,n_estimators=200, oob_score = True, class_weight={0:1,1:3}) \n",
    "rf_model_auc = RandomForestClassifier(n_jobs=-1 ,n_estimators=200, oob_score = True, class_weight={0:1,1:5}) \n",
    "XGB_model_auc = xgb.XGBClassifier( \n",
    "                               n_estimators=30000, \n",
    "                               max_depth=3,\n",
    "                               objective=\"binary:logistic\",  \n",
    "                               learning_rate=.1, \n",
    "                               subsample=1,\n",
    "                               min_child_weight=1,\n",
    "                               colsample_bytree=.8,\n",
    "                               scale_pos_weight=3,\n",
    "                               use_label_encoder=False\n",
    "                              )\n",
    "XGB_model_logloss = xgb.XGBClassifier( \n",
    "                                   n_estimators=30000, \n",
    "                                   max_delta_step = 1,\n",
    "                                   max_depth=4,\n",
    "                                   objective=\"binary:logistic\",\n",
    "                                   learning_rate=.3, \n",
    "                                   subsample=1,\n",
    "                                   min_child_weight=2,\n",
    "                                   colsample_bytree=0.8,\n",
    "                                   use_label_encoder=False,\n",
    "                                   scale_pos_weight=2,\n",
    "                                   gamma=0\n",
    "                                  )\n",
    "\n",
    "models = [\"lr_model\", \"rf_model_logloss\", \"rf_model_auc\", \"XGB_model_auc\", \"XGB_model_logloss\"]\n"
   ]
  },
  {
   "cell_type": "markdown",
   "id": "fleet-sheffield",
   "metadata": {},
   "source": [
    "## Train each model and save as pickle"
   ]
  },
  {
   "cell_type": "code",
   "execution_count": 26,
   "id": "indie-public",
   "metadata": {},
   "outputs": [
    {
     "name": "stdout",
     "output_type": "stream",
     "text": [
      "[16:51:58] WARNING: /Users/runner/miniforge3/conda-bld/xgboost-split_1614800145805/work/src/learner.cc:1061: Starting in XGBoost 1.3.0, the default evaluation metric used with the objective 'binary:logistic' was changed from 'error' to 'logloss'. Explicitly set eval_metric if you'd like to restore the old behavior.\n",
      "[16:52:31] WARNING: /Users/runner/miniforge3/conda-bld/xgboost-split_1614800145805/work/src/learner.cc:1061: Starting in XGBoost 1.3.0, the default evaluation metric used with the objective 'binary:logistic' was changed from 'error' to 'logloss'. Explicitly set eval_metric if you'd like to restore the old behavior.\n"
     ]
    }
   ],
   "source": [
    "for model_name in models:\n",
    "    \n",
    "    curr_model = eval(model_name)\n",
    "    \n",
    "    curr_model.fit(X_tr_rs, y_tr_rs)\n",
    "    \n",
    "    with open(f\"models/{model_name}.pickle\", \"wb\") as pfile:\n",
    "        pickle.dump(curr_model, pfile)"
   ]
  },
  {
   "cell_type": "code",
   "execution_count": 27,
   "id": "independent-local",
   "metadata": {},
   "outputs": [],
   "source": [
    "# Load pre-trained/tuned models\n",
    "\n",
    "model_names = [\"lr_model\", \"rf_model_logloss\", \"rf_model_auc\", \"XGB_model_auc\", \"XGB_model_logloss\"]\n",
    "\n",
    "for model_name in model_names:\n",
    "    with open(f\"models/{model_name}.pickle\", \"rb\") as pfile:\n",
    "        exec(f\"{model_name} = pickle.load(pfile)\")\n",
    "\n",
    "model_vars = [eval(n) for n in model_names]\n",
    "model_list = list(zip(model_names, model_vars))"
   ]
  },
  {
   "cell_type": "code",
   "execution_count": 28,
   "id": "environmental-robin",
   "metadata": {},
   "outputs": [
    {
     "data": {
      "text/plain": [
       "[('lr_model', LogisticRegression(class_weight='balanced', solver='liblinear')),\n",
       " ('rf_model_logloss',\n",
       "  RandomForestClassifier(class_weight={0: 1, 1: 3}, n_estimators=200, n_jobs=-1,\n",
       "                         oob_score=True)),\n",
       " ('rf_model_auc',\n",
       "  RandomForestClassifier(class_weight={0: 1, 1: 5}, n_estimators=200, n_jobs=-1,\n",
       "                         oob_score=True)),\n",
       " ('XGB_model_auc',\n",
       "  XGBClassifier(base_score=0.5, booster='gbtree', colsample_bylevel=1,\n",
       "                colsample_bynode=1, colsample_bytree=0.8, gamma=0, gpu_id=-1,\n",
       "                importance_type='gain', interaction_constraints='',\n",
       "                learning_rate=0.1, max_delta_step=0, max_depth=3,\n",
       "                min_child_weight=1, missing=nan, monotone_constraints='()',\n",
       "                n_estimators=30000, n_jobs=8, num_parallel_tree=1, random_state=0,\n",
       "                reg_alpha=0, reg_lambda=1, scale_pos_weight=3, subsample=1,\n",
       "                tree_method='exact', use_label_encoder=False,\n",
       "                validate_parameters=1, verbosity=None)),\n",
       " ('XGB_model_logloss',\n",
       "  XGBClassifier(base_score=0.5, booster='gbtree', colsample_bylevel=1,\n",
       "                colsample_bynode=1, colsample_bytree=0.8, gamma=0, gpu_id=-1,\n",
       "                importance_type='gain', interaction_constraints='',\n",
       "                learning_rate=0.3, max_delta_step=1, max_depth=4,\n",
       "                min_child_weight=2, missing=nan, monotone_constraints='()',\n",
       "                n_estimators=30000, n_jobs=8, num_parallel_tree=1, random_state=0,\n",
       "                reg_alpha=0, reg_lambda=1, scale_pos_weight=2, subsample=1,\n",
       "                tree_method='exact', use_label_encoder=False,\n",
       "                validate_parameters=1, verbosity=None))]"
      ]
     },
     "execution_count": 28,
     "metadata": {},
     "output_type": "execute_result"
    }
   ],
   "source": [
    "model_list"
   ]
  },
  {
   "cell_type": "code",
   "execution_count": 29,
   "id": "accurate-burning",
   "metadata": {},
   "outputs": [
    {
     "name": "stdout",
     "output_type": "stream",
     "text": [
      "lr_model score: 0.7505091649694501\n",
      "rf_model_logloss score: 0.9521384928716904\n",
      "rf_model_auc score: 0.9541751527494908\n",
      "XGB_model_auc score: 0.9470468431771895\n",
      "XGB_model_logloss score: 0.9480651731160896\n"
     ]
    }
   ],
   "source": [
    "# Quick peek at each model performance\n",
    "\n",
    "for model_name in model_names:\n",
    "    curr_model = eval(model_name)\n",
    "    print(f'{model_name} score: {curr_model.score(X_test, y_test)}')"
   ]
  },
  {
   "cell_type": "code",
   "execution_count": 19,
   "id": "bulgarian-touch",
   "metadata": {},
   "outputs": [
    {
     "data": {
      "text/plain": [
       "VotingClassifier(estimators=[('lr_model',\n",
       "                              LogisticRegression(class_weight='balanced',\n",
       "                                                 solver='liblinear')),\n",
       "                             ('rf_model_logloss',\n",
       "                              RandomForestClassifier(class_weight={0: 1, 1: 3},\n",
       "                                                     n_estimators=200,\n",
       "                                                     n_jobs=-1,\n",
       "                                                     oob_score=True)),\n",
       "                             ('rf_model_auc',\n",
       "                              RandomForestClassifier(class_weight={0: 1, 1: 5},\n",
       "                                                     n_estimators=200,\n",
       "                                                     n_jobs=-1,\n",
       "                                                     oob_score=True)),\n",
       "                             ('XGB_model_auc',\n",
       "                              XGBClassifie...\n",
       "                                            gpu_id=-1, importance_type='gain',\n",
       "                                            interaction_constraints='',\n",
       "                                            learning_rate=0.3, max_delta_step=1,\n",
       "                                            max_depth=4, min_child_weight=2,\n",
       "                                            missing=nan,\n",
       "                                            monotone_constraints='()',\n",
       "                                            n_estimators=30000, n_jobs=8,\n",
       "                                            num_parallel_tree=1, random_state=0,\n",
       "                                            reg_alpha=0, reg_lambda=1,\n",
       "                                            scale_pos_weight=2, subsample=1,\n",
       "                                            tree_method='exact',\n",
       "                                            use_label_encoder=False,\n",
       "                                            validate_parameters=1,\n",
       "                                            verbosity=None))],\n",
       "                 n_jobs=-1)"
      ]
     },
     "execution_count": 19,
     "metadata": {},
     "output_type": "execute_result"
    }
   ],
   "source": [
    "# create voting classifier\n",
    "voting_classifer = VotingClassifier(estimators=model_list,\n",
    "                                    voting='hard', #<-- sklearn calls this hard voting\n",
    "                                    n_jobs=-1)\n",
    "voting_classifer.fit(X_train, y_train)"
   ]
  },
  {
   "cell_type": "code",
   "execution_count": 20,
   "id": "valued-neutral",
   "metadata": {},
   "outputs": [
    {
     "name": "stdout",
     "output_type": "stream",
     "text": [
      "accuracy 0.9501018329938901\n",
      "Log_loss:  1.723428146771961\n",
      "Precision :  0.1111111111111111\n",
      "Recall :  0.023809523809523808\n"
     ]
    }
   ],
   "source": [
    "y_pred = voting_classifer.predict(X_test)\n",
    "print('accuracy', accuracy_score(y_test, y_pred))\n",
    "print('Log_loss: ', log_loss(y_test, y_pred))\n",
    "print('Precision : ', precision_score(y_test, y_pred))\n",
    "print('Recall : ', recall_score(y_test, y_pred))"
   ]
  },
  {
   "cell_type": "code",
   "execution_count": 21,
   "id": "removed-aquarium",
   "metadata": {},
   "outputs": [
    {
     "name": "stdout",
     "output_type": "stream",
     "text": [
      "auc_score 0.7876899696048631\n",
      "accuracy 0.9511201629327902\n",
      "Log_loss:  1.6882562767160438\n",
      "Precision :  0.2\n",
      "Recall :  0.047619047619047616\n"
     ]
    }
   ],
   "source": [
    "# create voting classifier\n",
    "voting_classifer = VotingClassifier(estimators=model_list,\n",
    "                                    voting='soft', #<-- sklearn calls this hard voting\n",
    "                                    n_jobs=-1)\n",
    "voting_classifer.fit(X_train, y_train)\n",
    "\n",
    "probas = voting_classifer.predict_proba(X_test)[:,1]\n",
    "print('auc_score', roc_auc_score(y_test,probas))\n",
    "\n",
    "y_pred = voting_classifer.predict(X_test)\n",
    "print('accuracy', accuracy_score(y_test, y_pred))\n",
    "print('Log_loss: ', log_loss(y_test, y_pred))\n",
    "print('Precision : ', precision_score(y_test, y_pred))\n",
    "print('Recall : ', recall_score(y_test, y_pred))"
   ]
  },
  {
   "cell_type": "markdown",
   "id": "chemical-coordinator",
   "metadata": {},
   "source": [
    "## Voting for models trained on data which is not oversampled"
   ]
  },
  {
   "cell_type": "code",
   "execution_count": 25,
   "id": "hairy-wildlife",
   "metadata": {},
   "outputs": [],
   "source": [
    "# best auc score\n",
    "lr_6x = LogisticRegression(C=100, class_weight={1 : 6, 0 : 1}, solver='liblinear') \n",
    "\n",
    "# best logloss\n",
    "lr_4x = LogisticRegression(C=100, class_weight={1 : 4, 0 : 1}, solver='liblinear') \n"
   ]
  },
  {
   "cell_type": "code",
   "execution_count": 34,
   "id": "ranging-jordan",
   "metadata": {},
   "outputs": [],
   "source": [
    "models = ['lr_6x', 'lr_4x']\n",
    "\n",
    "for model_name in models:\n",
    "    \n",
    "    curr_model = eval(model_name)\n",
    "    \n",
    "    curr_model.fit(X_train, y_train)\n",
    "    \n",
    "    with open(f\"models/{model_name}.pickle\", \"wb\") as pfile:\n",
    "        pickle.dump(curr_model, pfile)"
   ]
  },
  {
   "cell_type": "code",
   "execution_count": 35,
   "id": "reliable-virtue",
   "metadata": {},
   "outputs": [],
   "source": [
    "model_names = [\"lr_6x\", \"lr_4x\"]\n",
    "\n",
    "for model_name in model_names:\n",
    "    with open(f\"models/{model_name}.pickle\", \"rb\") as pfile:\n",
    "        exec(f\"{model_name} = pickle.load(pfile)\")\n",
    "\n",
    "model_vars = [eval(n) for n in model_names]\n",
    "model_list = list(zip(model_names, model_vars))"
   ]
  },
  {
   "cell_type": "code",
   "execution_count": 36,
   "id": "bright-behavior",
   "metadata": {},
   "outputs": [
    {
     "data": {
      "text/plain": [
       "[('lr_6x',\n",
       "  LogisticRegression(C=100, class_weight={0: 1, 1: 6}, solver='liblinear')),\n",
       " ('lr_4x',\n",
       "  LogisticRegression(C=100, class_weight={0: 1, 1: 4}, solver='liblinear'))]"
      ]
     },
     "execution_count": 36,
     "metadata": {},
     "output_type": "execute_result"
    }
   ],
   "source": [
    "model_list"
   ]
  },
  {
   "cell_type": "code",
   "execution_count": 37,
   "id": "closing-stuff",
   "metadata": {},
   "outputs": [
    {
     "name": "stdout",
     "output_type": "stream",
     "text": [
      "lr_6x score: 0.8961303462321792\n",
      "lr_4x score: 0.9276985743380856\n"
     ]
    }
   ],
   "source": [
    "# Quick peek at each model performance\n",
    "\n",
    "for model_name in model_names:\n",
    "    curr_model = eval(model_name)\n",
    "    print(f'{model_name} score: {curr_model.score(X_test, y_test)}')"
   ]
  },
  {
   "cell_type": "code",
   "execution_count": 38,
   "id": "vietnamese-haven",
   "metadata": {},
   "outputs": [
    {
     "name": "stdout",
     "output_type": "stream",
     "text": [
      "auc_score 0.7924265450861195\n",
      "accuracy 0.929735234215886\n",
      "Log_loss:  2.426889975510372\n",
      "Precision :  0.22448979591836735\n",
      "Recall :  0.2619047619047619\n"
     ]
    }
   ],
   "source": [
    "# create voting classifier - average\n",
    "voting_classifer = VotingClassifier(estimators=model_list,\n",
    "                                    voting='soft', #<-- sklearn calls this hard voting\n",
    "                                    n_jobs=-1)\n",
    "voting_classifer.fit(X_train, y_train)\n",
    "\n",
    "probas = voting_classifer.predict_proba(X_test)[:,1]\n",
    "print('auc_score', roc_auc_score(y_test,probas))\n",
    "\n",
    "y_pred = voting_classifer.predict(X_test)\n",
    "print('accuracy', accuracy_score(y_test, y_pred))\n",
    "print('Log_loss: ', log_loss(y_test, y_pred))\n",
    "print('Precision : ', precision_score(y_test, y_pred))\n",
    "print('Recall : ', recall_score(y_test, y_pred))"
   ]
  },
  {
   "cell_type": "code",
   "execution_count": 39,
   "id": "municipal-effect",
   "metadata": {},
   "outputs": [],
   "source": [
    "def make_confusion_matrix(model, threshold=0.5):\n",
    "    # Predict class 1 if probability of being in class 1 is greater than threshold\n",
    "    # (model.predict(X_test) does this automatically with a threshold of 0.5)\n",
    "    y_predict = (model.predict_proba(X_test)[:, 1] >= threshold)\n",
    "    fraud_confusion = confusion_matrix(y_test, y_predict)\n",
    "    plt.figure(dpi=80)\n",
    "    sns.heatmap(fraud_confusion, cmap=plt.cm.Blues, annot=True, square=True, fmt='d',\n",
    "           xticklabels=['no_stroke', 'stroke'],\n",
    "           yticklabels=['no_stroke', 'stroke']);\n",
    "    plt.xlabel('prediction')\n",
    "    plt.ylabel('actual')"
   ]
  },
  {
   "cell_type": "code",
   "execution_count": 40,
   "id": "global-material",
   "metadata": {},
   "outputs": [
    {
     "data": {
      "image/png": "[encoded data removed]",
      "text/plain": [
       "<Figure size 480x320 with 2 Axes>"
      ]
     },
     "metadata": {},
     "output_type": "display_data"
    }
   ],
   "source": [
    "make_confusion_matrix(voting_classifer)"
   ]
  },
  {
   "cell_type": "code",
   "execution_count": 42,
   "id": "mounted-cisco",
   "metadata": {},
   "outputs": [
    {
     "data": {
      "application/vnd.jupyter.widget-view+json": {
       "model_id": "45f25dea13834693832990b0242dd1cc",
       "version_major": 2,
       "version_minor": 0
      },
      "text/plain": [
       "interactive(children=(FloatSlider(value=0.5, description='threshold', max=1.0, step=0.02), Output()), _dom_cla…"
      ]
     },
     "metadata": {},
     "output_type": "display_data"
    }
   ],
   "source": [
    "# Let's see how our confusion matrix changes with changes to the cutoff! \n",
    "\n",
    "from ipywidgets import interactive, FloatSlider\n",
    "\n",
    "interactive(lambda threshold: make_confusion_matrix(voting_classifer, threshold), threshold=(0.0,1.0,0.02))"
   ]
  },
  {
   "cell_type": "code",
   "execution_count": 43,
   "id": "binding-message",
   "metadata": {},
   "outputs": [
    {
     "name": "stdout",
     "output_type": "stream",
     "text": [
      "Default threshold:\n",
      "Precision: 0.2245, Recall: 0.2619\n"
     ]
    }
   ],
   "source": [
    "# using the default threshold of 0.5, which is what vanilla predict does\n",
    "y_predict = voting_classifer.predict(X_test)\n",
    "print(\"Default threshold:\")\n",
    "print(\"Precision: {:6.4f}, Recall: {:6.4f}\".format(precision_score(y_test, y_predict), recall_score(y_test, y_predict)))\n"
   ]
  },
  {
   "cell_type": "code",
   "execution_count": 44,
   "id": "crucial-advocate",
   "metadata": {},
   "outputs": [
    {
     "name": "stdout",
     "output_type": "stream",
     "text": [
      "Default threshold of 0.06:\n",
      "Precision: 0.0650, Recall: 0.9762\n"
     ]
    }
   ],
   "source": [
    "# using the default threshold of 0.06, which is what vanilla predict does\n",
    "y_predict = voting_classifer.predict_proba(X_test)[:,1] > 0.06\n",
    "print(\"Default threshold of 0.06:\")\n",
    "print(\"Precision: {:6.4f}, Recall: {:6.4f}\".format(precision_score(y_test, y_predict), recall_score(y_test, y_predict)))\n"
   ]
  },
  {
   "cell_type": "code",
   "execution_count": 45,
   "id": "broad-cutting",
   "metadata": {},
   "outputs": [
    {
     "name": "stdout",
     "output_type": "stream",
     "text": [
      "Default threshold of 0.08:\n",
      "Precision: 0.0756, Recall: 0.9524\n"
     ]
    }
   ],
   "source": [
    "# using the default threshold of 0.08, which is what vanilla predict does\n",
    "y_predict = voting_classifer.predict_proba(X_test)[:,1] > 0.08\n",
    "print(\"Default threshold of 0.08:\")\n",
    "print(\"Precision: {:6.4f}, Recall: {:6.4f}\".format(precision_score(y_test, y_predict), recall_score(y_test, y_predict)))\n"
   ]
  },
  {
   "cell_type": "code",
   "execution_count": 46,
   "id": "closing-tract",
   "metadata": {},
   "outputs": [
    {
     "data": {
      "image/png": "[encoded data removed]",
      "text/plain": [
       "<Figure size 480x320 with 1 Axes>"
      ]
     },
     "metadata": {},
     "output_type": "display_data"
    }
   ],
   "source": [
    "# We can also use the probabilities to make a curve showing us how recall \n",
    "# and thresholds trade off \n",
    "\n",
    "precision_curve, recall_curve, threshold_curve = precision_recall_curve(y_test, voting_classifer.predict_proba(X_test)[:,1] )\n",
    "\n",
    "plt.figure(dpi=80)\n",
    "plt.plot(threshold_curve, precision_curve[1:],label='precision')\n",
    "plt.plot(threshold_curve, recall_curve[1:], label='recall')\n",
    "plt.legend(loc='lower left')\n",
    "plt.xlabel('Threshold (above this probability, label as stroke)');\n",
    "plt.title('Precision and Recall Curves');"
   ]
  },
  {
   "cell_type": "code",
   "execution_count": 47,
   "id": "applicable-strap",
   "metadata": {},
   "outputs": [
    {
     "data": {
      "image/png": "[encoded data removed]",
      "text/plain": [
       "<Figure size 480x320 with 1 Axes>"
      ]
     },
     "metadata": {},
     "output_type": "display_data"
    }
   ],
   "source": [
    "plt.figure(dpi=80)\n",
    "plt.plot(recall_curve[1:], precision_curve[1:],label='precision')\n",
    "plt.xlabel(\"Recall\")\n",
    "plt.ylabel(\"Precision\")\n",
    "plt.title(\"Precision-Recall Curve\");"
   ]
  },
  {
   "cell_type": "code",
   "execution_count": 48,
   "id": "smart-message",
   "metadata": {},
   "outputs": [],
   "source": [
    "# Precision = TP / (TP + FP)\n",
    "# Recall = TP/P = True positive rate\n",
    "# false positive rate = FP / true negatives = FP / (FP + TN) \n",
    "\n",
    "from sklearn.metrics import roc_auc_score, roc_curve\n",
    "\n",
    "fpr, tpr, thresholds = roc_curve(y_test, voting_classifer.predict_proba(X_test)[:,1])"
   ]
  },
  {
   "cell_type": "code",
   "execution_count": 50,
   "id": "monthly-highlight",
   "metadata": {},
   "outputs": [
    {
     "name": "stdout",
     "output_type": "stream",
     "text": [
      "ROC AUC score =  0.7924265450861195\n"
     ]
    },
    {
     "data": {
      "image/png": "[encoded data removed]",
      "text/plain": [
       "<Figure size 432x288 with 1 Axes>"
      ]
     },
     "metadata": {},
     "output_type": "display_data"
    }
   ],
   "source": [
    "plt.plot(fpr, tpr,lw=2)\n",
    "plt.plot([0,1],[0,1],c='violet',ls='--')\n",
    "plt.xlim([-0.05,1.05])\n",
    "plt.ylim([-0.05,1.05])\n",
    "\n",
    "\n",
    "plt.xlabel('False positive rate')\n",
    "plt.ylabel('True positive rate')\n",
    "plt.title('ROC curve for stroke prediction');\n",
    "print(\"ROC AUC score = \", roc_auc_score(y_test, voting_classifer.predict_proba(X_test)[:,1]))"
   ]
  },
  {
   "cell_type": "code",
   "execution_count": null,
   "id": "stuffed-campus",
   "metadata": {},
   "outputs": [],
   "source": []
  },
  {
   "cell_type": "code",
   "execution_count": null,
   "id": "compound-catering",
   "metadata": {},
   "outputs": [],
   "source": []
  }
 ],
 "metadata": {
  "kernelspec": {
   "display_name": "Python [conda env:metis] *",
   "language": "python",
   "name": "conda-env-metis-py"
  },
  "language_info": {
   "codemirror_mode": {
    "name": "ipython",
    "version": 3
   },
   "file_extension": ".py",
   "mimetype": "text/x-python",
   "name": "python",
   "nbconvert_exporter": "python",
   "pygments_lexer": "ipython3",
   "version": "3.8.8"
  }
 },
 "nbformat": 4,
 "nbformat_minor": 5
}
